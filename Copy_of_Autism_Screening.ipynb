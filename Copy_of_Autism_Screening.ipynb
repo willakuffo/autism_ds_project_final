{
  "nbformat": 4,
  "nbformat_minor": 0,
  "metadata": {
    "kernelspec": {
      "display_name": "Python 3",
      "language": "python",
      "name": "python3"
    },
    "language_info": {
      "codemirror_mode": {
        "name": "ipython",
        "version": 3
      },
      "file_extension": ".py",
      "mimetype": "text/x-python",
      "name": "python",
      "nbconvert_exporter": "python",
      "pygments_lexer": "ipython3",
      "version": "3.6.9"
    },
    "colab": {
      "name": "Copy of Autism-Screening.ipynb",
      "provenance": [],
      "collapsed_sections": [
        "IvcsPb2c1ftp",
        "4Wv2D_Py_1uj",
        "9-OVc6VwAz_1",
        "QQYZ02786_WQ"
      ],
      "include_colab_link": true
    }
  },
  "cells": [
    {
      "cell_type": "markdown",
      "metadata": {
        "id": "view-in-github",
        "colab_type": "text"
      },
      "source": [
        "<a href=\"https://colab.research.google.com/github/willakuffo/autism_ds_project_final/blob/main/Copy_of_Autism_Screening.ipynb\" target=\"_parent\"><img src=\"https://colab.research.google.com/assets/colab-badge.svg\" alt=\"Open In Colab\"/></a>"
      ]
    },
    {
      "cell_type": "markdown",
      "metadata": {
        "id": "IiBGy6pq8JIX"
      },
      "source": [
        "# Autistic Spectrum Disorder Screening Data   "
      ]
    },
    {
      "cell_type": "markdown",
      "metadata": {
        "id": "RpA3XhoH7-xH"
      },
      "source": [
        "**Abstract**: Autistic Spectrum Disorder (ASD) is a neurodevelopment  condition associated with significant healthcare costs, and early diagnosis can significantly reduce these. Unfortunately, waiting times for an ASD diagnosis are lengthy and procedures are not cost effective. The economic impact of autism and the increase in the number of ASD cases across the world reveals an urgent need for the development of easily implemented and effective screening methods. Therefore, a time-efficient and accessible ASD screening is imminent to help health professionals and inform individuals whether they should pursue formal clinical diagnosis.  The rapid growth in the number of ASD cases worldwide necessitates datasets related to behaviour traits. However, such datasets are rare making it difficult to perform thorough analyses to improve the efficiency, sensitivity, specificity and predictive accuracy of the ASD screening process. Presently, very limited autism datasets associated with clinical or screening are available and most of them are genetic in nature. Hence, we propose a new dataset related to autism screening of adults that contained 20 features to be utilised for further analysis especially in determining influential autistic traits and improving the classification of ASD cases. In this dataset, we record ten behavioural features (AQ-10-Child) plus ten individuals characteristics that have proved to be effective in detecting the ASD cases from controls in behaviour science. "
      ]
    },
    {
      "cell_type": "markdown",
      "metadata": {
        "id": "k6mBnPjTuhuy"
      },
      "source": [
        "# Data Summary statistics from research paper\n",
        "\n",
        "\n",
        "- Data Type: Multivariate OR Univariate OR Sequential OR Time-Series OR Text OR Domain-Theory\n",
        "Nominal / categorical, binary and continuous \n",
        "\n",
        "- Task: Classification\n",
        "\n",
        "- Attribute Type: Categorical, continuous and binary  \n",
        "- Area: Medical, health and social science\n",
        "- Format Type: Non-Matrix\n",
        "- Does your data set contain missing values? Yes\n",
        "- Number of Instances (records in your data set): 292\n",
        "- Number of Attributes (fields within each record): 21\n",
        "\n",
        "Relevant Information: For Further information about the attributes/feature see below table\n",
        "\n",
        "![](https://drive.google.com/uc?id=1K2xb6BEx_Ib88TT4bHX-aRLwplUVYADY)"
      ]
    },
    {
      "cell_type": "markdown",
      "metadata": {
        "id": "ggve4Yq6tJYE"
      },
      "source": [
        "**Source**:\n",
        "\n",
        "Fadi Fayez Thabtah\n",
        "Department of Digital Technology\n",
        "Manukau Institute of Technology,\n",
        "Auckland, New Zealand\n",
        "fadi.fayez@manukau.ac.nz"
      ]
    },
    {
      "cell_type": "markdown",
      "metadata": {
        "id": "xa8iqd6ItChj"
      },
      "source": [
        "**Relevant Papers**:\n",
        "\n",
        "1) Tabtah, F. (2017). Autism Spectrum Disorder Screening: Machine Learning Adaptation and DSM-5 Fulfillment. Proceedings of the 1st International Conference on Medical and Health Informatics 2017, pp.1-6. Taichung City, Taiwan, ACM.\n",
        "\n",
        "2) Thabtah, F. (2017). ASDTests. A mobile app for ASD screening. www.asdtests.com [accessed December 20th, 2017].\n",
        "\n",
        "3) Thabtah, F. (2017). Machine Learning in Autistic Spectrum Disorder Behavioural Research: A Review. To Appear in Informatics for Health and Social Care Journal. December, 2017 (in press)"
      ]
    },
    {
      "cell_type": "markdown",
      "metadata": {
        "id": "yaN-1qT3qXVZ"
      },
      "source": [
        "#Importing libraries"
      ]
    },
    {
      "cell_type": "code",
      "metadata": {
        "id": "CYS1RsDXyOYG",
        "colab": {
          "base_uri": "https://localhost:8080/"
        },
        "outputId": "c749c158-8b08-4989-a233-d2b42e3b8c59"
      },
      "source": [
        "import sys\n",
        "IN_COLAB = 'google.colab' in sys.modules\n",
        "\n",
        "if IN_COLAB:\n",
        "    !pip install empiricaldist"
      ],
      "execution_count": null,
      "outputs": [
        {
          "output_type": "stream",
          "text": [
            "Requirement already satisfied: empiricaldist in /usr/local/lib/python3.6/dist-packages (0.3.9)\n"
          ],
          "name": "stdout"
        }
      ]
    },
    {
      "cell_type": "code",
      "metadata": {
        "id": "ukisnO5dumGs"
      },
      "source": [
        "\n",
        "from scipy.io import arff\n",
        "import pandas as pd\n",
        "import numpy as np\n",
        "from sklearn.preprocessing import LabelEncoder\n",
        "import matplotlib.pyplot as plt\n",
        "import seaborn as sns\n",
        "\n",
        "from empiricaldist import Pmf,Cdf"
      ],
      "execution_count": null,
      "outputs": []
    },
    {
      "cell_type": "markdown",
      "metadata": {
        "id": "IvcsPb2c1ftp"
      },
      "source": [
        "# Helper functions"
      ]
    },
    {
      "cell_type": "code",
      "metadata": {
        "id": "cXf-tm-c1ipt"
      },
      "source": [
        "def decorate(**options):\n",
        "    \"\"\"Decorate the current axes.\n",
        "    Call decorate with keyword arguments like\n",
        "    decorate(title='Title',\n",
        "             xlabel='x',\n",
        "             ylabel='y')\n",
        "    The keyword arguments can be any of the axis properties\n",
        "    https://matplotlib.org/api/axes_api.html\n",
        "    \"\"\"\n",
        "    plt.gca().set(**options)\n",
        "    plt.tight_layout()"
      ],
      "execution_count": null,
      "outputs": []
    },
    {
      "cell_type": "code",
      "metadata": {
        "id": "Rwo0S8Eo1pWp"
      },
      "source": [
        "def values(series):\n",
        "    \"\"\"Count the values and sort.\n",
        "    \n",
        "    series: pd.Series\n",
        "    \n",
        "    returns: series mapping from values to frequencies\n",
        "    \"\"\"\n",
        "    return series.value_counts().sort_index()"
      ],
      "execution_count": null,
      "outputs": []
    },
    {
      "cell_type": "markdown",
      "metadata": {
        "id": "4Wv2D_Py_1uj"
      },
      "source": [
        "#Downloading the data"
      ]
    },
    {
      "cell_type": "code",
      "metadata": {
        "id": "tzbrI3_Twp_Q"
      },
      "source": [
        "# import os\n",
        "\n",
        "# filename = 'Autism-Child-Data.arff'\n",
        "# if not os.path.exists(filename):\n",
        "#     !wget https://github.com/Lormenyo/Autism-classifier/raw/master/Autism-Screening-Child-Data/Autism-Child-Data.arff"
      ],
      "execution_count": null,
      "outputs": []
    },
    {
      "cell_type": "code",
      "metadata": {
        "id": "5kemS3UijKWT"
      },
      "source": [
        "import os\n",
        "import gdown\n",
        "\n",
        "filename2 = 'Autism_Data.arff'\n",
        "if not os.path.exists(filename2):\n",
        "    !gdown http://drive.google.com/uc?id=1byZ_EQAU0mh1v1nldrW0pfbsz_uVOZo6"
      ],
      "execution_count": null,
      "outputs": []
    },
    {
      "cell_type": "markdown",
      "metadata": {
        "id": "THIUTj8S5YG1"
      },
      "source": [
        "#Loading the Data\n",
        ">The data contains mostly categorical variables. An_Score, where n is an integer form 1 to 10 are behavioural features. Whereas the other variables are represent individual characteristics"
      ]
    },
    {
      "cell_type": "code",
      "metadata": {
        "id": "cysGs_Nzo5Z-"
      },
      "source": [
        "data = pd.read_csv(filename2)\n",
        "\n",
        "df = pd.DataFrame(data)\n",
        "\n"
      ],
      "execution_count": null,
      "outputs": []
    },
    {
      "cell_type": "code",
      "metadata": {
        "id": "HHldEkX62UPB",
        "colab": {
          "base_uri": "https://localhost:8080/",
          "height": 609
        },
        "outputId": "0b8d55e8-733d-44d3-ab25-d6e3e61d08bb"
      },
      "source": [
        "df"
      ],
      "execution_count": null,
      "outputs": [
        {
          "output_type": "execute_result",
          "data": {
            "text/html": [
              "<div>\n",
              "<style scoped>\n",
              "    .dataframe tbody tr th:only-of-type {\n",
              "        vertical-align: middle;\n",
              "    }\n",
              "\n",
              "    .dataframe tbody tr th {\n",
              "        vertical-align: top;\n",
              "    }\n",
              "\n",
              "    .dataframe thead th {\n",
              "        text-align: right;\n",
              "    }\n",
              "</style>\n",
              "<table border=\"1\" class=\"dataframe\">\n",
              "  <thead>\n",
              "    <tr style=\"text-align: right;\">\n",
              "      <th></th>\n",
              "      <th>A1_Score</th>\n",
              "      <th>A2_Score</th>\n",
              "      <th>A3_Score</th>\n",
              "      <th>A4_Score</th>\n",
              "      <th>A5_Score</th>\n",
              "      <th>A6_Score</th>\n",
              "      <th>A7_Score</th>\n",
              "      <th>A8_Score</th>\n",
              "      <th>A9_Score</th>\n",
              "      <th>A10_Score</th>\n",
              "      <th>age</th>\n",
              "      <th>gender</th>\n",
              "      <th>ethnicity</th>\n",
              "      <th>jundice</th>\n",
              "      <th>austim</th>\n",
              "      <th>contry_of_res</th>\n",
              "      <th>used_app_before</th>\n",
              "      <th>result</th>\n",
              "      <th>age_desc</th>\n",
              "      <th>relation</th>\n",
              "      <th>Class/ASD</th>\n",
              "    </tr>\n",
              "  </thead>\n",
              "  <tbody>\n",
              "    <tr>\n",
              "      <th>0</th>\n",
              "      <td>1</td>\n",
              "      <td>1</td>\n",
              "      <td>1</td>\n",
              "      <td>1</td>\n",
              "      <td>0</td>\n",
              "      <td>0</td>\n",
              "      <td>1</td>\n",
              "      <td>1</td>\n",
              "      <td>0</td>\n",
              "      <td>0</td>\n",
              "      <td>26</td>\n",
              "      <td>f</td>\n",
              "      <td>White-European</td>\n",
              "      <td>no</td>\n",
              "      <td>no</td>\n",
              "      <td>'United States'</td>\n",
              "      <td>no</td>\n",
              "      <td>6</td>\n",
              "      <td>'18 and more'</td>\n",
              "      <td>Self</td>\n",
              "      <td>NO</td>\n",
              "    </tr>\n",
              "    <tr>\n",
              "      <th>1</th>\n",
              "      <td>1</td>\n",
              "      <td>1</td>\n",
              "      <td>0</td>\n",
              "      <td>1</td>\n",
              "      <td>0</td>\n",
              "      <td>0</td>\n",
              "      <td>0</td>\n",
              "      <td>1</td>\n",
              "      <td>0</td>\n",
              "      <td>1</td>\n",
              "      <td>24</td>\n",
              "      <td>m</td>\n",
              "      <td>Latino</td>\n",
              "      <td>no</td>\n",
              "      <td>yes</td>\n",
              "      <td>Brazil</td>\n",
              "      <td>no</td>\n",
              "      <td>5</td>\n",
              "      <td>'18 and more'</td>\n",
              "      <td>Self</td>\n",
              "      <td>NO</td>\n",
              "    </tr>\n",
              "    <tr>\n",
              "      <th>2</th>\n",
              "      <td>1</td>\n",
              "      <td>1</td>\n",
              "      <td>0</td>\n",
              "      <td>1</td>\n",
              "      <td>1</td>\n",
              "      <td>0</td>\n",
              "      <td>1</td>\n",
              "      <td>1</td>\n",
              "      <td>1</td>\n",
              "      <td>1</td>\n",
              "      <td>27</td>\n",
              "      <td>m</td>\n",
              "      <td>Latino</td>\n",
              "      <td>yes</td>\n",
              "      <td>yes</td>\n",
              "      <td>Spain</td>\n",
              "      <td>no</td>\n",
              "      <td>8</td>\n",
              "      <td>'18 and more'</td>\n",
              "      <td>Parent</td>\n",
              "      <td>YES</td>\n",
              "    </tr>\n",
              "    <tr>\n",
              "      <th>3</th>\n",
              "      <td>1</td>\n",
              "      <td>1</td>\n",
              "      <td>0</td>\n",
              "      <td>1</td>\n",
              "      <td>0</td>\n",
              "      <td>0</td>\n",
              "      <td>1</td>\n",
              "      <td>1</td>\n",
              "      <td>0</td>\n",
              "      <td>1</td>\n",
              "      <td>35</td>\n",
              "      <td>f</td>\n",
              "      <td>White-European</td>\n",
              "      <td>no</td>\n",
              "      <td>yes</td>\n",
              "      <td>'United States'</td>\n",
              "      <td>no</td>\n",
              "      <td>6</td>\n",
              "      <td>'18 and more'</td>\n",
              "      <td>Self</td>\n",
              "      <td>NO</td>\n",
              "    </tr>\n",
              "    <tr>\n",
              "      <th>4</th>\n",
              "      <td>1</td>\n",
              "      <td>0</td>\n",
              "      <td>0</td>\n",
              "      <td>0</td>\n",
              "      <td>0</td>\n",
              "      <td>0</td>\n",
              "      <td>0</td>\n",
              "      <td>1</td>\n",
              "      <td>0</td>\n",
              "      <td>0</td>\n",
              "      <td>40</td>\n",
              "      <td>f</td>\n",
              "      <td>?</td>\n",
              "      <td>no</td>\n",
              "      <td>no</td>\n",
              "      <td>Egypt</td>\n",
              "      <td>no</td>\n",
              "      <td>2</td>\n",
              "      <td>'18 and more'</td>\n",
              "      <td>?</td>\n",
              "      <td>NO</td>\n",
              "    </tr>\n",
              "    <tr>\n",
              "      <th>...</th>\n",
              "      <td>...</td>\n",
              "      <td>...</td>\n",
              "      <td>...</td>\n",
              "      <td>...</td>\n",
              "      <td>...</td>\n",
              "      <td>...</td>\n",
              "      <td>...</td>\n",
              "      <td>...</td>\n",
              "      <td>...</td>\n",
              "      <td>...</td>\n",
              "      <td>...</td>\n",
              "      <td>...</td>\n",
              "      <td>...</td>\n",
              "      <td>...</td>\n",
              "      <td>...</td>\n",
              "      <td>...</td>\n",
              "      <td>...</td>\n",
              "      <td>...</td>\n",
              "      <td>...</td>\n",
              "      <td>...</td>\n",
              "      <td>...</td>\n",
              "    </tr>\n",
              "    <tr>\n",
              "      <th>699</th>\n",
              "      <td>0</td>\n",
              "      <td>1</td>\n",
              "      <td>0</td>\n",
              "      <td>1</td>\n",
              "      <td>1</td>\n",
              "      <td>0</td>\n",
              "      <td>1</td>\n",
              "      <td>1</td>\n",
              "      <td>1</td>\n",
              "      <td>1</td>\n",
              "      <td>25</td>\n",
              "      <td>f</td>\n",
              "      <td>White-European</td>\n",
              "      <td>no</td>\n",
              "      <td>no</td>\n",
              "      <td>Russia</td>\n",
              "      <td>no</td>\n",
              "      <td>7</td>\n",
              "      <td>'18 and more'</td>\n",
              "      <td>Self</td>\n",
              "      <td>YES</td>\n",
              "    </tr>\n",
              "    <tr>\n",
              "      <th>700</th>\n",
              "      <td>1</td>\n",
              "      <td>0</td>\n",
              "      <td>0</td>\n",
              "      <td>0</td>\n",
              "      <td>0</td>\n",
              "      <td>0</td>\n",
              "      <td>0</td>\n",
              "      <td>1</td>\n",
              "      <td>0</td>\n",
              "      <td>1</td>\n",
              "      <td>34</td>\n",
              "      <td>m</td>\n",
              "      <td>Hispanic</td>\n",
              "      <td>no</td>\n",
              "      <td>no</td>\n",
              "      <td>Mexico</td>\n",
              "      <td>no</td>\n",
              "      <td>3</td>\n",
              "      <td>'18 and more'</td>\n",
              "      <td>Parent</td>\n",
              "      <td>NO</td>\n",
              "    </tr>\n",
              "    <tr>\n",
              "      <th>701</th>\n",
              "      <td>1</td>\n",
              "      <td>0</td>\n",
              "      <td>1</td>\n",
              "      <td>1</td>\n",
              "      <td>1</td>\n",
              "      <td>0</td>\n",
              "      <td>1</td>\n",
              "      <td>1</td>\n",
              "      <td>0</td>\n",
              "      <td>1</td>\n",
              "      <td>24</td>\n",
              "      <td>f</td>\n",
              "      <td>?</td>\n",
              "      <td>no</td>\n",
              "      <td>no</td>\n",
              "      <td>Russia</td>\n",
              "      <td>no</td>\n",
              "      <td>7</td>\n",
              "      <td>'18 and more'</td>\n",
              "      <td>?</td>\n",
              "      <td>YES</td>\n",
              "    </tr>\n",
              "    <tr>\n",
              "      <th>702</th>\n",
              "      <td>1</td>\n",
              "      <td>0</td>\n",
              "      <td>0</td>\n",
              "      <td>1</td>\n",
              "      <td>1</td>\n",
              "      <td>0</td>\n",
              "      <td>1</td>\n",
              "      <td>0</td>\n",
              "      <td>1</td>\n",
              "      <td>1</td>\n",
              "      <td>35</td>\n",
              "      <td>m</td>\n",
              "      <td>'South Asian'</td>\n",
              "      <td>no</td>\n",
              "      <td>no</td>\n",
              "      <td>Pakistan</td>\n",
              "      <td>no</td>\n",
              "      <td>6</td>\n",
              "      <td>'18 and more'</td>\n",
              "      <td>Self</td>\n",
              "      <td>NO</td>\n",
              "    </tr>\n",
              "    <tr>\n",
              "      <th>703</th>\n",
              "      <td>1</td>\n",
              "      <td>0</td>\n",
              "      <td>1</td>\n",
              "      <td>1</td>\n",
              "      <td>1</td>\n",
              "      <td>0</td>\n",
              "      <td>1</td>\n",
              "      <td>1</td>\n",
              "      <td>1</td>\n",
              "      <td>1</td>\n",
              "      <td>26</td>\n",
              "      <td>f</td>\n",
              "      <td>White-European</td>\n",
              "      <td>no</td>\n",
              "      <td>no</td>\n",
              "      <td>Cyprus</td>\n",
              "      <td>no</td>\n",
              "      <td>8</td>\n",
              "      <td>'18 and more'</td>\n",
              "      <td>Self</td>\n",
              "      <td>YES</td>\n",
              "    </tr>\n",
              "  </tbody>\n",
              "</table>\n",
              "<p>704 rows × 21 columns</p>\n",
              "</div>"
            ],
            "text/plain": [
              "     A1_Score  A2_Score  A3_Score  ...       age_desc  relation  Class/ASD\n",
              "0           1         1         1  ...  '18 and more'      Self         NO\n",
              "1           1         1         0  ...  '18 and more'      Self         NO\n",
              "2           1         1         0  ...  '18 and more'    Parent        YES\n",
              "3           1         1         0  ...  '18 and more'      Self         NO\n",
              "4           1         0         0  ...  '18 and more'         ?         NO\n",
              "..        ...       ...       ...  ...            ...       ...        ...\n",
              "699         0         1         0  ...  '18 and more'      Self        YES\n",
              "700         1         0         0  ...  '18 and more'    Parent         NO\n",
              "701         1         0         1  ...  '18 and more'         ?        YES\n",
              "702         1         0         0  ...  '18 and more'      Self         NO\n",
              "703         1         0         1  ...  '18 and more'      Self        YES\n",
              "\n",
              "[704 rows x 21 columns]"
            ]
          },
          "metadata": {
            "tags": []
          },
          "execution_count": 349
        }
      ]
    },
    {
      "cell_type": "code",
      "metadata": {
        "id": "5tcPhsHm4G4c",
        "colab": {
          "base_uri": "https://localhost:8080/"
        },
        "outputId": "e5bff910-cb66-4c03-d397-7c8005198e47"
      },
      "source": [
        "#check column data types\n",
        "df.dtypes"
      ],
      "execution_count": null,
      "outputs": [
        {
          "output_type": "execute_result",
          "data": {
            "text/plain": [
              "A1_Score            int64\n",
              "A2_Score            int64\n",
              "A3_Score            int64\n",
              "A4_Score            int64\n",
              "A5_Score            int64\n",
              "A6_Score            int64\n",
              "A7_Score            int64\n",
              "A8_Score            int64\n",
              "A9_Score            int64\n",
              "A10_Score           int64\n",
              "age                object\n",
              "gender             object\n",
              "ethnicity          object\n",
              "jundice            object\n",
              "austim             object\n",
              "contry_of_res      object\n",
              "used_app_before    object\n",
              "result              int64\n",
              "age_desc           object\n",
              "relation           object\n",
              "Class/ASD          object\n",
              "dtype: object"
            ]
          },
          "metadata": {
            "tags": []
          },
          "execution_count": 350
        }
      ]
    },
    {
      "cell_type": "code",
      "metadata": {
        "id": "CHVYGINf4-0c"
      },
      "source": [
        ""
      ],
      "execution_count": null,
      "outputs": []
    },
    {
      "cell_type": "markdown",
      "metadata": {
        "id": "X36BJuVR5E4Q"
      },
      "source": [
        "Null or Missing Data. Ethnicity and relation columns have 95 missing data each"
      ]
    },
    {
      "cell_type": "code",
      "metadata": {
        "id": "np9QuBIt4wHj",
        "colab": {
          "base_uri": "https://localhost:8080/"
        },
        "outputId": "087c197b-d4a3-4b2a-b2de-ed7994aaea6d"
      },
      "source": [
        "#check for missing data nans\n",
        "df.isnull().sum()"
      ],
      "execution_count": null,
      "outputs": [
        {
          "output_type": "execute_result",
          "data": {
            "text/plain": [
              "A1_Score           0\n",
              "A2_Score           0\n",
              "A3_Score           0\n",
              "A4_Score           0\n",
              "A5_Score           0\n",
              "A6_Score           0\n",
              "A7_Score           0\n",
              "A8_Score           0\n",
              "A9_Score           0\n",
              "A10_Score          0\n",
              "age                0\n",
              "gender             0\n",
              "ethnicity          0\n",
              "jundice            0\n",
              "austim             0\n",
              "contry_of_res      0\n",
              "used_app_before    0\n",
              "result             0\n",
              "age_desc           0\n",
              "relation           0\n",
              "Class/ASD          0\n",
              "dtype: int64"
            ]
          },
          "metadata": {
            "tags": []
          },
          "execution_count": 351
        }
      ]
    },
    {
      "cell_type": "markdown",
      "metadata": {
        "id": "ZhFJjyJxdwF-"
      },
      "source": [
        "Handle missing data  `?` by replacing with nans "
      ]
    },
    {
      "cell_type": "code",
      "metadata": {
        "id": "YxDQZQ3ucCYS",
        "colab": {
          "base_uri": "https://localhost:8080/",
          "height": 609
        },
        "outputId": "a45a5140-7333-4567-84f3-f3a001877ab9"
      },
      "source": [
        "\n",
        "\n",
        "# Converting columns to the right data types and replace missing values with Nan\n",
        "for column in df.columns:\n",
        "  try:\n",
        "    df[column] = df[column].replace('?', np.nan)\n",
        "  except AttributeError: #when value in column is a float object\n",
        "    df[column] = df[column].apply(pd.to_numeric)\n",
        "\n",
        "df"
      ],
      "execution_count": null,
      "outputs": [
        {
          "output_type": "execute_result",
          "data": {
            "text/html": [
              "<div>\n",
              "<style scoped>\n",
              "    .dataframe tbody tr th:only-of-type {\n",
              "        vertical-align: middle;\n",
              "    }\n",
              "\n",
              "    .dataframe tbody tr th {\n",
              "        vertical-align: top;\n",
              "    }\n",
              "\n",
              "    .dataframe thead th {\n",
              "        text-align: right;\n",
              "    }\n",
              "</style>\n",
              "<table border=\"1\" class=\"dataframe\">\n",
              "  <thead>\n",
              "    <tr style=\"text-align: right;\">\n",
              "      <th></th>\n",
              "      <th>A1_Score</th>\n",
              "      <th>A2_Score</th>\n",
              "      <th>A3_Score</th>\n",
              "      <th>A4_Score</th>\n",
              "      <th>A5_Score</th>\n",
              "      <th>A6_Score</th>\n",
              "      <th>A7_Score</th>\n",
              "      <th>A8_Score</th>\n",
              "      <th>A9_Score</th>\n",
              "      <th>A10_Score</th>\n",
              "      <th>age</th>\n",
              "      <th>gender</th>\n",
              "      <th>ethnicity</th>\n",
              "      <th>jundice</th>\n",
              "      <th>austim</th>\n",
              "      <th>contry_of_res</th>\n",
              "      <th>used_app_before</th>\n",
              "      <th>result</th>\n",
              "      <th>age_desc</th>\n",
              "      <th>relation</th>\n",
              "      <th>Class/ASD</th>\n",
              "    </tr>\n",
              "  </thead>\n",
              "  <tbody>\n",
              "    <tr>\n",
              "      <th>0</th>\n",
              "      <td>1</td>\n",
              "      <td>1</td>\n",
              "      <td>1</td>\n",
              "      <td>1</td>\n",
              "      <td>0</td>\n",
              "      <td>0</td>\n",
              "      <td>1</td>\n",
              "      <td>1</td>\n",
              "      <td>0</td>\n",
              "      <td>0</td>\n",
              "      <td>26</td>\n",
              "      <td>f</td>\n",
              "      <td>White-European</td>\n",
              "      <td>no</td>\n",
              "      <td>no</td>\n",
              "      <td>'United States'</td>\n",
              "      <td>no</td>\n",
              "      <td>6</td>\n",
              "      <td>'18 and more'</td>\n",
              "      <td>Self</td>\n",
              "      <td>NO</td>\n",
              "    </tr>\n",
              "    <tr>\n",
              "      <th>1</th>\n",
              "      <td>1</td>\n",
              "      <td>1</td>\n",
              "      <td>0</td>\n",
              "      <td>1</td>\n",
              "      <td>0</td>\n",
              "      <td>0</td>\n",
              "      <td>0</td>\n",
              "      <td>1</td>\n",
              "      <td>0</td>\n",
              "      <td>1</td>\n",
              "      <td>24</td>\n",
              "      <td>m</td>\n",
              "      <td>Latino</td>\n",
              "      <td>no</td>\n",
              "      <td>yes</td>\n",
              "      <td>Brazil</td>\n",
              "      <td>no</td>\n",
              "      <td>5</td>\n",
              "      <td>'18 and more'</td>\n",
              "      <td>Self</td>\n",
              "      <td>NO</td>\n",
              "    </tr>\n",
              "    <tr>\n",
              "      <th>2</th>\n",
              "      <td>1</td>\n",
              "      <td>1</td>\n",
              "      <td>0</td>\n",
              "      <td>1</td>\n",
              "      <td>1</td>\n",
              "      <td>0</td>\n",
              "      <td>1</td>\n",
              "      <td>1</td>\n",
              "      <td>1</td>\n",
              "      <td>1</td>\n",
              "      <td>27</td>\n",
              "      <td>m</td>\n",
              "      <td>Latino</td>\n",
              "      <td>yes</td>\n",
              "      <td>yes</td>\n",
              "      <td>Spain</td>\n",
              "      <td>no</td>\n",
              "      <td>8</td>\n",
              "      <td>'18 and more'</td>\n",
              "      <td>Parent</td>\n",
              "      <td>YES</td>\n",
              "    </tr>\n",
              "    <tr>\n",
              "      <th>3</th>\n",
              "      <td>1</td>\n",
              "      <td>1</td>\n",
              "      <td>0</td>\n",
              "      <td>1</td>\n",
              "      <td>0</td>\n",
              "      <td>0</td>\n",
              "      <td>1</td>\n",
              "      <td>1</td>\n",
              "      <td>0</td>\n",
              "      <td>1</td>\n",
              "      <td>35</td>\n",
              "      <td>f</td>\n",
              "      <td>White-European</td>\n",
              "      <td>no</td>\n",
              "      <td>yes</td>\n",
              "      <td>'United States'</td>\n",
              "      <td>no</td>\n",
              "      <td>6</td>\n",
              "      <td>'18 and more'</td>\n",
              "      <td>Self</td>\n",
              "      <td>NO</td>\n",
              "    </tr>\n",
              "    <tr>\n",
              "      <th>4</th>\n",
              "      <td>1</td>\n",
              "      <td>0</td>\n",
              "      <td>0</td>\n",
              "      <td>0</td>\n",
              "      <td>0</td>\n",
              "      <td>0</td>\n",
              "      <td>0</td>\n",
              "      <td>1</td>\n",
              "      <td>0</td>\n",
              "      <td>0</td>\n",
              "      <td>40</td>\n",
              "      <td>f</td>\n",
              "      <td>NaN</td>\n",
              "      <td>no</td>\n",
              "      <td>no</td>\n",
              "      <td>Egypt</td>\n",
              "      <td>no</td>\n",
              "      <td>2</td>\n",
              "      <td>'18 and more'</td>\n",
              "      <td>NaN</td>\n",
              "      <td>NO</td>\n",
              "    </tr>\n",
              "    <tr>\n",
              "      <th>...</th>\n",
              "      <td>...</td>\n",
              "      <td>...</td>\n",
              "      <td>...</td>\n",
              "      <td>...</td>\n",
              "      <td>...</td>\n",
              "      <td>...</td>\n",
              "      <td>...</td>\n",
              "      <td>...</td>\n",
              "      <td>...</td>\n",
              "      <td>...</td>\n",
              "      <td>...</td>\n",
              "      <td>...</td>\n",
              "      <td>...</td>\n",
              "      <td>...</td>\n",
              "      <td>...</td>\n",
              "      <td>...</td>\n",
              "      <td>...</td>\n",
              "      <td>...</td>\n",
              "      <td>...</td>\n",
              "      <td>...</td>\n",
              "      <td>...</td>\n",
              "    </tr>\n",
              "    <tr>\n",
              "      <th>699</th>\n",
              "      <td>0</td>\n",
              "      <td>1</td>\n",
              "      <td>0</td>\n",
              "      <td>1</td>\n",
              "      <td>1</td>\n",
              "      <td>0</td>\n",
              "      <td>1</td>\n",
              "      <td>1</td>\n",
              "      <td>1</td>\n",
              "      <td>1</td>\n",
              "      <td>25</td>\n",
              "      <td>f</td>\n",
              "      <td>White-European</td>\n",
              "      <td>no</td>\n",
              "      <td>no</td>\n",
              "      <td>Russia</td>\n",
              "      <td>no</td>\n",
              "      <td>7</td>\n",
              "      <td>'18 and more'</td>\n",
              "      <td>Self</td>\n",
              "      <td>YES</td>\n",
              "    </tr>\n",
              "    <tr>\n",
              "      <th>700</th>\n",
              "      <td>1</td>\n",
              "      <td>0</td>\n",
              "      <td>0</td>\n",
              "      <td>0</td>\n",
              "      <td>0</td>\n",
              "      <td>0</td>\n",
              "      <td>0</td>\n",
              "      <td>1</td>\n",
              "      <td>0</td>\n",
              "      <td>1</td>\n",
              "      <td>34</td>\n",
              "      <td>m</td>\n",
              "      <td>Hispanic</td>\n",
              "      <td>no</td>\n",
              "      <td>no</td>\n",
              "      <td>Mexico</td>\n",
              "      <td>no</td>\n",
              "      <td>3</td>\n",
              "      <td>'18 and more'</td>\n",
              "      <td>Parent</td>\n",
              "      <td>NO</td>\n",
              "    </tr>\n",
              "    <tr>\n",
              "      <th>701</th>\n",
              "      <td>1</td>\n",
              "      <td>0</td>\n",
              "      <td>1</td>\n",
              "      <td>1</td>\n",
              "      <td>1</td>\n",
              "      <td>0</td>\n",
              "      <td>1</td>\n",
              "      <td>1</td>\n",
              "      <td>0</td>\n",
              "      <td>1</td>\n",
              "      <td>24</td>\n",
              "      <td>f</td>\n",
              "      <td>NaN</td>\n",
              "      <td>no</td>\n",
              "      <td>no</td>\n",
              "      <td>Russia</td>\n",
              "      <td>no</td>\n",
              "      <td>7</td>\n",
              "      <td>'18 and more'</td>\n",
              "      <td>NaN</td>\n",
              "      <td>YES</td>\n",
              "    </tr>\n",
              "    <tr>\n",
              "      <th>702</th>\n",
              "      <td>1</td>\n",
              "      <td>0</td>\n",
              "      <td>0</td>\n",
              "      <td>1</td>\n",
              "      <td>1</td>\n",
              "      <td>0</td>\n",
              "      <td>1</td>\n",
              "      <td>0</td>\n",
              "      <td>1</td>\n",
              "      <td>1</td>\n",
              "      <td>35</td>\n",
              "      <td>m</td>\n",
              "      <td>'South Asian'</td>\n",
              "      <td>no</td>\n",
              "      <td>no</td>\n",
              "      <td>Pakistan</td>\n",
              "      <td>no</td>\n",
              "      <td>6</td>\n",
              "      <td>'18 and more'</td>\n",
              "      <td>Self</td>\n",
              "      <td>NO</td>\n",
              "    </tr>\n",
              "    <tr>\n",
              "      <th>703</th>\n",
              "      <td>1</td>\n",
              "      <td>0</td>\n",
              "      <td>1</td>\n",
              "      <td>1</td>\n",
              "      <td>1</td>\n",
              "      <td>0</td>\n",
              "      <td>1</td>\n",
              "      <td>1</td>\n",
              "      <td>1</td>\n",
              "      <td>1</td>\n",
              "      <td>26</td>\n",
              "      <td>f</td>\n",
              "      <td>White-European</td>\n",
              "      <td>no</td>\n",
              "      <td>no</td>\n",
              "      <td>Cyprus</td>\n",
              "      <td>no</td>\n",
              "      <td>8</td>\n",
              "      <td>'18 and more'</td>\n",
              "      <td>Self</td>\n",
              "      <td>YES</td>\n",
              "    </tr>\n",
              "  </tbody>\n",
              "</table>\n",
              "<p>704 rows × 21 columns</p>\n",
              "</div>"
            ],
            "text/plain": [
              "     A1_Score  A2_Score  A3_Score  ...       age_desc  relation  Class/ASD\n",
              "0           1         1         1  ...  '18 and more'      Self         NO\n",
              "1           1         1         0  ...  '18 and more'      Self         NO\n",
              "2           1         1         0  ...  '18 and more'    Parent        YES\n",
              "3           1         1         0  ...  '18 and more'      Self         NO\n",
              "4           1         0         0  ...  '18 and more'       NaN         NO\n",
              "..        ...       ...       ...  ...            ...       ...        ...\n",
              "699         0         1         0  ...  '18 and more'      Self        YES\n",
              "700         1         0         0  ...  '18 and more'    Parent         NO\n",
              "701         1         0         1  ...  '18 and more'       NaN        YES\n",
              "702         1         0         0  ...  '18 and more'      Self         NO\n",
              "703         1         0         1  ...  '18 and more'      Self        YES\n",
              "\n",
              "[704 rows x 21 columns]"
            ]
          },
          "metadata": {
            "tags": []
          },
          "execution_count": 352
        }
      ]
    },
    {
      "cell_type": "code",
      "metadata": {
        "id": "c9IaIjge4f-5",
        "colab": {
          "base_uri": "https://localhost:8080/"
        },
        "outputId": "e07f7410-1b35-4a76-df20-8e672087b0c2"
      },
      "source": [
        "#replaced with nans\n",
        "df.isnull().sum()"
      ],
      "execution_count": null,
      "outputs": [
        {
          "output_type": "execute_result",
          "data": {
            "text/plain": [
              "A1_Score            0\n",
              "A2_Score            0\n",
              "A3_Score            0\n",
              "A4_Score            0\n",
              "A5_Score            0\n",
              "A6_Score            0\n",
              "A7_Score            0\n",
              "A8_Score            0\n",
              "A9_Score            0\n",
              "A10_Score           0\n",
              "age                 2\n",
              "gender              0\n",
              "ethnicity          95\n",
              "jundice             0\n",
              "austim              0\n",
              "contry_of_res       0\n",
              "used_app_before     0\n",
              "result              0\n",
              "age_desc            0\n",
              "relation           95\n",
              "Class/ASD           0\n",
              "dtype: int64"
            ]
          },
          "metadata": {
            "tags": []
          },
          "execution_count": 353
        }
      ]
    },
    {
      "cell_type": "code",
      "metadata": {
        "id": "F8F3qN9TBsjU"
      },
      "source": [
        ""
      ],
      "execution_count": null,
      "outputs": []
    },
    {
      "cell_type": "code",
      "metadata": {
        "id": "IMrKeaM05qWx"
      },
      "source": [
        "\n"
      ],
      "execution_count": null,
      "outputs": []
    },
    {
      "cell_type": "markdown",
      "metadata": {
        "id": "3I_BVvw8UlxB"
      },
      "source": [
        "correcting spelling of column names"
      ]
    },
    {
      "cell_type": "code",
      "metadata": {
        "id": "krKiWLgFT-Cc"
      },
      "source": [
        "df = df.rename(columns={'austim': 'autism','contry_of_res':'country_of_res'})"
      ],
      "execution_count": null,
      "outputs": []
    },
    {
      "cell_type": "code",
      "metadata": {
        "id": "s53GiQu2BtPN",
        "colab": {
          "base_uri": "https://localhost:8080/"
        },
        "outputId": "665eb94c-0c1d-4bd4-c715-af8469620d48"
      },
      "source": [
        "df.columns"
      ],
      "execution_count": null,
      "outputs": [
        {
          "output_type": "execute_result",
          "data": {
            "text/plain": [
              "Index(['A1_Score', 'A2_Score', 'A3_Score', 'A4_Score', 'A5_Score', 'A6_Score',\n",
              "       'A7_Score', 'A8_Score', 'A9_Score', 'A10_Score', 'age', 'gender',\n",
              "       'ethnicity', 'jundice', 'autism', 'country_of_res', 'used_app_before',\n",
              "       'result', 'age_desc', 'relation', 'Class/ASD'],\n",
              "      dtype='object')"
            ]
          },
          "metadata": {
            "tags": []
          },
          "execution_count": 355
        }
      ]
    },
    {
      "cell_type": "markdown",
      "metadata": {
        "id": "vHfSpku_eTwA"
      },
      "source": [
        "Summary statistics"
      ]
    },
    {
      "cell_type": "code",
      "metadata": {
        "id": "rwOK6YB9umG2",
        "colab": {
          "base_uri": "https://localhost:8080/",
          "height": 294
        },
        "outputId": "ec804fa7-27bc-4c14-a22b-7c8fa54c7b61"
      },
      "source": [
        "#leaves out some columns\n",
        "df.describe()"
      ],
      "execution_count": null,
      "outputs": [
        {
          "output_type": "execute_result",
          "data": {
            "text/html": [
              "<div>\n",
              "<style scoped>\n",
              "    .dataframe tbody tr th:only-of-type {\n",
              "        vertical-align: middle;\n",
              "    }\n",
              "\n",
              "    .dataframe tbody tr th {\n",
              "        vertical-align: top;\n",
              "    }\n",
              "\n",
              "    .dataframe thead th {\n",
              "        text-align: right;\n",
              "    }\n",
              "</style>\n",
              "<table border=\"1\" class=\"dataframe\">\n",
              "  <thead>\n",
              "    <tr style=\"text-align: right;\">\n",
              "      <th></th>\n",
              "      <th>A1_Score</th>\n",
              "      <th>A2_Score</th>\n",
              "      <th>A3_Score</th>\n",
              "      <th>A4_Score</th>\n",
              "      <th>A5_Score</th>\n",
              "      <th>A6_Score</th>\n",
              "      <th>A7_Score</th>\n",
              "      <th>A8_Score</th>\n",
              "      <th>A9_Score</th>\n",
              "      <th>A10_Score</th>\n",
              "      <th>result</th>\n",
              "    </tr>\n",
              "  </thead>\n",
              "  <tbody>\n",
              "    <tr>\n",
              "      <th>count</th>\n",
              "      <td>704.000000</td>\n",
              "      <td>704.000000</td>\n",
              "      <td>704.000000</td>\n",
              "      <td>704.000000</td>\n",
              "      <td>704.000000</td>\n",
              "      <td>704.000000</td>\n",
              "      <td>704.000000</td>\n",
              "      <td>704.000000</td>\n",
              "      <td>704.000000</td>\n",
              "      <td>704.000000</td>\n",
              "      <td>704.000000</td>\n",
              "    </tr>\n",
              "    <tr>\n",
              "      <th>mean</th>\n",
              "      <td>0.721591</td>\n",
              "      <td>0.453125</td>\n",
              "      <td>0.457386</td>\n",
              "      <td>0.495739</td>\n",
              "      <td>0.498580</td>\n",
              "      <td>0.284091</td>\n",
              "      <td>0.417614</td>\n",
              "      <td>0.649148</td>\n",
              "      <td>0.323864</td>\n",
              "      <td>0.573864</td>\n",
              "      <td>4.875000</td>\n",
              "    </tr>\n",
              "    <tr>\n",
              "      <th>std</th>\n",
              "      <td>0.448535</td>\n",
              "      <td>0.498152</td>\n",
              "      <td>0.498535</td>\n",
              "      <td>0.500337</td>\n",
              "      <td>0.500353</td>\n",
              "      <td>0.451301</td>\n",
              "      <td>0.493516</td>\n",
              "      <td>0.477576</td>\n",
              "      <td>0.468281</td>\n",
              "      <td>0.494866</td>\n",
              "      <td>2.501493</td>\n",
              "    </tr>\n",
              "    <tr>\n",
              "      <th>min</th>\n",
              "      <td>0.000000</td>\n",
              "      <td>0.000000</td>\n",
              "      <td>0.000000</td>\n",
              "      <td>0.000000</td>\n",
              "      <td>0.000000</td>\n",
              "      <td>0.000000</td>\n",
              "      <td>0.000000</td>\n",
              "      <td>0.000000</td>\n",
              "      <td>0.000000</td>\n",
              "      <td>0.000000</td>\n",
              "      <td>0.000000</td>\n",
              "    </tr>\n",
              "    <tr>\n",
              "      <th>25%</th>\n",
              "      <td>0.000000</td>\n",
              "      <td>0.000000</td>\n",
              "      <td>0.000000</td>\n",
              "      <td>0.000000</td>\n",
              "      <td>0.000000</td>\n",
              "      <td>0.000000</td>\n",
              "      <td>0.000000</td>\n",
              "      <td>0.000000</td>\n",
              "      <td>0.000000</td>\n",
              "      <td>0.000000</td>\n",
              "      <td>3.000000</td>\n",
              "    </tr>\n",
              "    <tr>\n",
              "      <th>50%</th>\n",
              "      <td>1.000000</td>\n",
              "      <td>0.000000</td>\n",
              "      <td>0.000000</td>\n",
              "      <td>0.000000</td>\n",
              "      <td>0.000000</td>\n",
              "      <td>0.000000</td>\n",
              "      <td>0.000000</td>\n",
              "      <td>1.000000</td>\n",
              "      <td>0.000000</td>\n",
              "      <td>1.000000</td>\n",
              "      <td>4.000000</td>\n",
              "    </tr>\n",
              "    <tr>\n",
              "      <th>75%</th>\n",
              "      <td>1.000000</td>\n",
              "      <td>1.000000</td>\n",
              "      <td>1.000000</td>\n",
              "      <td>1.000000</td>\n",
              "      <td>1.000000</td>\n",
              "      <td>1.000000</td>\n",
              "      <td>1.000000</td>\n",
              "      <td>1.000000</td>\n",
              "      <td>1.000000</td>\n",
              "      <td>1.000000</td>\n",
              "      <td>7.000000</td>\n",
              "    </tr>\n",
              "    <tr>\n",
              "      <th>max</th>\n",
              "      <td>1.000000</td>\n",
              "      <td>1.000000</td>\n",
              "      <td>1.000000</td>\n",
              "      <td>1.000000</td>\n",
              "      <td>1.000000</td>\n",
              "      <td>1.000000</td>\n",
              "      <td>1.000000</td>\n",
              "      <td>1.000000</td>\n",
              "      <td>1.000000</td>\n",
              "      <td>1.000000</td>\n",
              "      <td>10.000000</td>\n",
              "    </tr>\n",
              "  </tbody>\n",
              "</table>\n",
              "</div>"
            ],
            "text/plain": [
              "         A1_Score    A2_Score    A3_Score  ...    A9_Score   A10_Score      result\n",
              "count  704.000000  704.000000  704.000000  ...  704.000000  704.000000  704.000000\n",
              "mean     0.721591    0.453125    0.457386  ...    0.323864    0.573864    4.875000\n",
              "std      0.448535    0.498152    0.498535  ...    0.468281    0.494866    2.501493\n",
              "min      0.000000    0.000000    0.000000  ...    0.000000    0.000000    0.000000\n",
              "25%      0.000000    0.000000    0.000000  ...    0.000000    0.000000    3.000000\n",
              "50%      1.000000    0.000000    0.000000  ...    0.000000    1.000000    4.000000\n",
              "75%      1.000000    1.000000    1.000000  ...    1.000000    1.000000    7.000000\n",
              "max      1.000000    1.000000    1.000000  ...    1.000000    1.000000   10.000000\n",
              "\n",
              "[8 rows x 11 columns]"
            ]
          },
          "metadata": {
            "tags": []
          },
          "execution_count": 356
        }
      ]
    },
    {
      "cell_type": "markdown",
      "metadata": {
        "id": "9-OVc6VwAz_1"
      },
      "source": [
        "##We want to explore these variables\n",
        "\n",
        "- age\t\n",
        "- gender\n",
        "- ethnicity\t\n",
        "- jundice\t\n",
        "- autism\t\n",
        "- contry_of_res\t\n",
        "\t\n"
      ]
    },
    {
      "cell_type": "code",
      "metadata": {
        "id": "j3A8Rto2Ay55"
      },
      "source": [
        "explore_columns = ['age','gender','ethnicity','jundice','autism','country_of_res','result','Class/ASD']"
      ],
      "execution_count": null,
      "outputs": []
    },
    {
      "cell_type": "code",
      "metadata": {
        "id": "INjnwmz9PbiM"
      },
      "source": [
        ""
      ],
      "execution_count": null,
      "outputs": []
    },
    {
      "cell_type": "markdown",
      "metadata": {
        "id": "sdLF4wsDPcCA"
      },
      "source": [
        "\n",
        "\n",
        "> # Age\n",
        "--------------"
      ]
    },
    {
      "cell_type": "markdown",
      "metadata": {
        "id": "RiRFs0AIMpGU"
      },
      "source": [
        "age has 2 missing values"
      ]
    },
    {
      "cell_type": "code",
      "metadata": {
        "colab": {
          "base_uri": "https://localhost:8080/"
        },
        "id": "uvx2X_2-LDC6",
        "outputId": "1a52bdfa-edca-4649-eb99-31792ec6015d"
      },
      "source": [
        "# 2 nans\n",
        "df['age'].isnull().value_counts()"
      ],
      "execution_count": null,
      "outputs": [
        {
          "output_type": "execute_result",
          "data": {
            "text/plain": [
              "False    702\n",
              "True       2\n",
              "Name: age, dtype: int64"
            ]
          },
          "metadata": {
            "tags": []
          },
          "execution_count": 358
        }
      ]
    },
    {
      "cell_type": "markdown",
      "metadata": {
        "id": "Qjs9FhFkMuam"
      },
      "source": [
        "count of the ages"
      ]
    },
    {
      "cell_type": "code",
      "metadata": {
        "id": "Xuc5LzTtPzZ6",
        "colab": {
          "base_uri": "https://localhost:8080/"
        },
        "outputId": "e96372e6-0bf7-49ba-fa1b-51e19616d3ff"
      },
      "source": [
        "df['age'].value_counts()"
      ],
      "execution_count": null,
      "outputs": [
        {
          "output_type": "execute_result",
          "data": {
            "text/plain": [
              "21     49\n",
              "20     46\n",
              "22     37\n",
              "23     37\n",
              "19     35\n",
              "24     34\n",
              "27     31\n",
              "18     31\n",
              "30     30\n",
              "26     28\n",
              "25     27\n",
              "29     27\n",
              "28     24\n",
              "31     21\n",
              "32     18\n",
              "17     18\n",
              "35     17\n",
              "37     17\n",
              "33     16\n",
              "40     16\n",
              "42     15\n",
              "36     13\n",
              "38     12\n",
              "34     12\n",
              "43     11\n",
              "44     10\n",
              "47      8\n",
              "39      7\n",
              "55      6\n",
              "46      6\n",
              "53      6\n",
              "52      5\n",
              "50      5\n",
              "45      4\n",
              "48      4\n",
              "49      3\n",
              "41      3\n",
              "58      2\n",
              "54      2\n",
              "56      2\n",
              "61      2\n",
              "383     1\n",
              "64      1\n",
              "60      1\n",
              "59      1\n",
              "51      1\n",
              "Name: age, dtype: int64"
            ]
          },
          "metadata": {
            "tags": []
          },
          "execution_count": 359
        }
      ]
    },
    {
      "cell_type": "markdown",
      "metadata": {
        "id": "Tp6LYE10MyEY"
      },
      "source": [
        "For some reason, though dtype says int64, the type of the ages itself is a string. Not sure why. To deal with this, i am going to replace the nans first with `909` and then replace `909` with the mean of the ages. There is also an outlier `383`. This will be replaced by `909` too and later replaced with the mean."
      ]
    },
    {
      "cell_type": "code",
      "metadata": {
        "colab": {
          "base_uri": "https://localhost:8080/"
        },
        "id": "7IuNYjQ8NW-B",
        "outputId": "081ea796-0da6-4068-b120-eaceedcecaf7"
      },
      "source": [
        "df['age'][0],type(df['age'][0])"
      ],
      "execution_count": null,
      "outputs": [
        {
          "output_type": "execute_result",
          "data": {
            "text/plain": [
              "('26', str)"
            ]
          },
          "metadata": {
            "tags": []
          },
          "execution_count": 360
        }
      ]
    },
    {
      "cell_type": "code",
      "metadata": {
        "id": "oyDu2vYEIztA"
      },
      "source": [
        "#replace\n",
        "df['age'] = df['age'].replace(np.nan,'909') #replace nans\n",
        "df['age'] = df['age'].replace('383','909') #replace 383"
      ],
      "execution_count": null,
      "outputs": []
    },
    {
      "cell_type": "markdown",
      "metadata": {
        "id": "KLKBFFbiOwC3"
      },
      "source": [
        "Convert to int"
      ]
    },
    {
      "cell_type": "code",
      "metadata": {
        "id": "C_EUHOvQOu4L"
      },
      "source": [
        "df['age'] = df['age'].astype(np.int64)"
      ],
      "execution_count": null,
      "outputs": []
    },
    {
      "cell_type": "markdown",
      "metadata": {
        "id": "ROv1wUL7P2IL"
      },
      "source": [
        "Now in proper type"
      ]
    },
    {
      "cell_type": "code",
      "metadata": {
        "colab": {
          "base_uri": "https://localhost:8080/"
        },
        "id": "o3dp9us6Ptvp",
        "outputId": "997ebd6e-040f-45e6-a508-efe062766c5a"
      },
      "source": [
        "df['age'][0],type(df['age'][0])"
      ],
      "execution_count": null,
      "outputs": [
        {
          "output_type": "execute_result",
          "data": {
            "text/plain": [
              "(26, numpy.int64)"
            ]
          },
          "metadata": {
            "tags": []
          },
          "execution_count": 363
        }
      ]
    },
    {
      "cell_type": "markdown",
      "metadata": {
        "id": "rkP64LxlP-D3"
      },
      "source": [
        "Replace `909` which is also now type int with mean of ages"
      ]
    },
    {
      "cell_type": "code",
      "metadata": {
        "id": "-KVUZsXZTNee"
      },
      "source": [
        "df['age'] = df['age'].replace(909, df['age'].mean())"
      ],
      "execution_count": null,
      "outputs": []
    },
    {
      "cell_type": "code",
      "metadata": {
        "id": "dXqzhgLkPzi7",
        "colab": {
          "base_uri": "https://localhost:8080/"
        },
        "outputId": "50283ee7-0af6-4155-c9a0-2ac6a497f60d"
      },
      "source": [
        "df['age'].describe()"
      ],
      "execution_count": null,
      "outputs": [
        {
          "output_type": "execute_result",
          "data": {
            "text/plain": [
              "count    704.000000\n",
              "mean      29.209985\n",
              "std        9.693863\n",
              "min       17.000000\n",
              "25%       21.000000\n",
              "50%       27.000000\n",
              "75%       35.000000\n",
              "max       64.000000\n",
              "Name: age, dtype: float64"
            ]
          },
          "metadata": {
            "tags": []
          },
          "execution_count": 365
        }
      ]
    },
    {
      "cell_type": "code",
      "metadata": {
        "id": "EmqPApZxQjbl"
      },
      "source": [
        ""
      ],
      "execution_count": null,
      "outputs": []
    },
    {
      "cell_type": "markdown",
      "metadata": {
        "id": "yLQ9TA0rQkd_"
      },
      "source": [
        "##Cummulative frequency Distribution of the ages"
      ]
    },
    {
      "cell_type": "code",
      "metadata": {
        "id": "_MtDoj2uPzrn",
        "colab": {
          "base_uri": "https://localhost:8080/",
          "height": 441
        },
        "outputId": "69d9d734-c828-4522-a7e2-1ff1037efb54"
      },
      "source": [
        "plt.figure(figsize=(10,6))\n",
        "cdf = Cdf.from_seq(df['age'])\n",
        "cdf.plot(alpha=0.7)\n",
        "\n",
        "decorate(xlabel='age',\n",
        "         ylabel='CDF',\n",
        "         title='cummulative Distribution of age')\n",
        "\n",
        "plt.xticks(rotation=0);"
      ],
      "execution_count": null,
      "outputs": [
        {
          "output_type": "display_data",
          "data": {
            "image/png": "[encoded data removed]",
            "text/plain": [
              "<Figure size 720x432 with 1 Axes>"
            ]
          },
          "metadata": {
            "tags": [],
            "needs_background": "light"
          }
        }
      ]
    },
    {
      "cell_type": "markdown",
      "metadata": {
        "id": "YUFkUPnORmGD"
      },
      "source": [
        "50% of the repondents are 27 and below"
      ]
    },
    {
      "cell_type": "code",
      "metadata": {
        "colab": {
          "base_uri": "https://localhost:8080/"
        },
        "id": "TgegzZFaQu0V",
        "outputId": "e62bc06e-42f2-4eb3-e82a-1807e7b644ba"
      },
      "source": [
        "cdf.inverse(0.5)"
      ],
      "execution_count": null,
      "outputs": [
        {
          "output_type": "execute_result",
          "data": {
            "text/plain": [
              "array(27.)"
            ]
          },
          "metadata": {
            "tags": []
          },
          "execution_count": 367
        }
      ]
    },
    {
      "cell_type": "markdown",
      "metadata": {
        "id": "kTsVL4edaQH7"
      },
      "source": [
        "KDE of Ages. Skewed to the left"
      ]
    },
    {
      "cell_type": "code",
      "metadata": {
        "colab": {
          "base_uri": "https://localhost:8080/",
          "height": 296
        },
        "id": "C05LR2PcZT4j",
        "outputId": "ee6120e7-2b1b-400d-ea79-7e0170e5c652"
      },
      "source": [
        "sns.kdeplot(df['age'])"
      ],
      "execution_count": null,
      "outputs": [
        {
          "output_type": "execute_result",
          "data": {
            "text/plain": [
              "<matplotlib.axes._subplots.AxesSubplot at 0x7f40197a07f0>"
            ]
          },
          "metadata": {
            "tags": []
          },
          "execution_count": 368
        },
        {
          "output_type": "display_data",
          "data": {
            "image/png": "[encoded data removed]",
            "text/plain": [
              "<Figure size 432x288 with 1 Axes>"
            ]
          },
          "metadata": {
            "tags": [],
            "needs_background": "light"
          }
        }
      ]
    },
    {
      "cell_type": "code",
      "metadata": {
        "colab": {
          "base_uri": "https://localhost:8080/"
        },
        "id": "ToeS8uC1dz4g",
        "outputId": "9880a20d-d327-450c-832a-9a799ae741b8"
      },
      "source": [
        "df['autism'].value_counts()"
      ],
      "execution_count": null,
      "outputs": [
        {
          "output_type": "execute_result",
          "data": {
            "text/plain": [
              "no     613\n",
              "yes     91\n",
              "Name: autism, dtype: int64"
            ]
          },
          "metadata": {
            "tags": []
          },
          "execution_count": 369
        }
      ]
    },
    {
      "cell_type": "code",
      "metadata": {
        "colab": {
          "base_uri": "https://localhost:8080/"
        },
        "id": "w0i0zFB-eBZn",
        "outputId": "86d64e05-40ce-41eb-d270-46b5844173c8"
      },
      "source": [
        "df['gender'].value_counts()"
      ],
      "execution_count": null,
      "outputs": [
        {
          "output_type": "execute_result",
          "data": {
            "text/plain": [
              "m    367\n",
              "f    337\n",
              "Name: gender, dtype: int64"
            ]
          },
          "metadata": {
            "tags": []
          },
          "execution_count": 370
        }
      ]
    },
    {
      "cell_type": "code",
      "metadata": {
        "colab": {
          "base_uri": "https://localhost:8080/"
        },
        "id": "Y6B3hNv-eBkP",
        "outputId": "b91a6824-ec62-4d01-a5ef-18f4d4eb6255"
      },
      "source": [
        "df['jundice'].value_counts()"
      ],
      "execution_count": null,
      "outputs": [
        {
          "output_type": "execute_result",
          "data": {
            "text/plain": [
              "no     635\n",
              "yes     69\n",
              "Name: jundice, dtype: int64"
            ]
          },
          "metadata": {
            "tags": []
          },
          "execution_count": 371
        }
      ]
    },
    {
      "cell_type": "markdown",
      "metadata": {
        "id": "HA7QZi62hwiv"
      },
      "source": [
        "percentage who are / have ..."
      ]
    },
    {
      "cell_type": "code",
      "metadata": {
        "id": "jXuR6MhZhvcJ"
      },
      "source": [
        "def percentage(column,response):\n",
        "  p = df[column].value_counts()[response]/ df[column].value_counts().sum()\n",
        "  print(column,':',p,response)"
      ],
      "execution_count": null,
      "outputs": []
    },
    {
      "cell_type": "code",
      "metadata": {
        "colab": {
          "base_uri": "https://localhost:8080/"
        },
        "id": "EH3HYj9fjEEe",
        "outputId": "d637ce20-ece9-4ea9-a696-36035443fd2d"
      },
      "source": [
        "percentage('gender','m')"
      ],
      "execution_count": null,
      "outputs": [
        {
          "output_type": "stream",
          "text": [
            "gender : 0.5213068181818182 m\n"
          ],
          "name": "stdout"
        }
      ]
    },
    {
      "cell_type": "code",
      "metadata": {
        "colab": {
          "base_uri": "https://localhost:8080/"
        },
        "id": "ul9Oj5utjUmH",
        "outputId": "0b913d77-c8dd-464a-e088-5a2ce7a8d8ec"
      },
      "source": [
        "percentage('jundice','yes')"
      ],
      "execution_count": null,
      "outputs": [
        {
          "output_type": "stream",
          "text": [
            "jundice : 0.09801136363636363 yes\n"
          ],
          "name": "stdout"
        }
      ]
    },
    {
      "cell_type": "code",
      "metadata": {
        "colab": {
          "base_uri": "https://localhost:8080/"
        },
        "id": "yZ48ZjVQjint",
        "outputId": "6165fc6e-bc01-4bf6-aea8-e3773b93b2de"
      },
      "source": [
        "percentage('autism','yes')"
      ],
      "execution_count": null,
      "outputs": [
        {
          "output_type": "stream",
          "text": [
            "autism : 0.12926136363636365 yes\n"
          ],
          "name": "stdout"
        }
      ]
    },
    {
      "cell_type": "markdown",
      "metadata": {
        "id": "nmHi3B9WSYEa"
      },
      "source": [
        "##  Comparing Autism and age, gender, jaundice"
      ]
    },
    {
      "cell_type": "code",
      "metadata": {
        "id": "_5Z4IyvsPzpP"
      },
      "source": [
        "male = df['gender'] =='m'\n",
        "female = df['gender'] =='f'\n",
        "autism = df['autism'] == 'yes'\n",
        "jundice = df['jundice'] == 'yes'\n",
        "age = df['age']\n"
      ],
      "execution_count": null,
      "outputs": []
    },
    {
      "cell_type": "code",
      "metadata": {
        "id": "mVRKiYzEPznH"
      },
      "source": [
        "male_age = age[male]\n",
        "female_age = age[female]\n",
        "autism_age = age[autism]\n",
        "jundice_age = age[jundice]\n",
        "\n"
      ],
      "execution_count": null,
      "outputs": []
    },
    {
      "cell_type": "code",
      "metadata": {
        "colab": {
          "base_uri": "https://localhost:8080/",
          "height": 294
        },
        "id": "EaIdkwVGj2OH",
        "outputId": "30794c2e-9a6c-4a8a-ff57-b68ea885c842"
      },
      "source": [
        "Pmf.from_seq(male_age).bar(label='Male')\n",
        "#Pmf.from_seq(female_age).plot(label='Female')\n",
        "#Pmf.from_seq(jundice_age).plot(label='Jundice')\n",
        "Pmf.from_seq(autism_age).bar(label='Autism',alpha = 0.5)\n",
        "plt.xlabel('Age (years)') \n",
        "plt.ylabel('PMF')\n",
        "plt.title('Distribution of male and autism')\n",
        "plt.legend();"
      ],
      "execution_count": null,
      "outputs": [
        {
          "output_type": "display_data",
          "data": {
            "image/png": "[encoded data removed]",
            "text/plain": [
              "<Figure size 432x288 with 1 Axes>"
            ]
          },
          "metadata": {
            "tags": [],
            "needs_background": "light"
          }
        }
      ]
    },
    {
      "cell_type": "markdown",
      "metadata": {
        "id": "0Jyo93P7mvQb"
      },
      "source": [
        "Compare pdf distributions by age"
      ]
    },
    {
      "cell_type": "code",
      "metadata": {
        "colab": {
          "base_uri": "https://localhost:8080/",
          "height": 312
        },
        "id": "eymDdOc1li6_",
        "outputId": "55240e77-a8ad-4338-80be-d769b6d9b34c"
      },
      "source": [
        "sns.kdeplot(autism_age,label = 'autism')\n",
        "sns.kdeplot(male_age,label = 'male')\n",
        "sns.kdeplot(female_age,label = 'femae')\n",
        "sns.kdeplot(jundice_age,label = 'jundice')\n",
        "plt.title('Distribution by age')\n",
        "plt.legend()"
      ],
      "execution_count": null,
      "outputs": [
        {
          "output_type": "execute_result",
          "data": {
            "text/plain": [
              "<matplotlib.legend.Legend at 0x7f4019614668>"
            ]
          },
          "metadata": {
            "tags": []
          },
          "execution_count": 379
        },
        {
          "output_type": "display_data",
          "data": {
            "image/png": "[encoded data removed]",
            "text/plain": [
              "<Figure size 432x288 with 1 Axes>"
            ]
          },
          "metadata": {
            "tags": [],
            "needs_background": "light"
          }
        }
      ]
    },
    {
      "cell_type": "markdown",
      "metadata": {
        "id": "9-gJ5oDanHUs"
      },
      "source": [
        "#Ethnicity"
      ]
    },
    {
      "cell_type": "code",
      "metadata": {
        "colab": {
          "base_uri": "https://localhost:8080/"
        },
        "id": "1hKYF04Vne0F",
        "outputId": "d4edfdb4-bf36-4c05-e7f5-47844725aef6"
      },
      "source": [
        "df['ethnicity'].isnull().value_counts()"
      ],
      "execution_count": null,
      "outputs": [
        {
          "output_type": "execute_result",
          "data": {
            "text/plain": [
              "False    609\n",
              "True      95\n",
              "Name: ethnicity, dtype: int64"
            ]
          },
          "metadata": {
            "tags": []
          },
          "execution_count": 380
        }
      ]
    },
    {
      "cell_type": "code",
      "metadata": {
        "id": "xu3Ay2uPe6IK",
        "colab": {
          "base_uri": "https://localhost:8080/"
        },
        "outputId": "1b1cef05-ce5b-4493-fd4e-543279e750b3"
      },
      "source": [
        "df['ethnicity'].value_counts()"
      ],
      "execution_count": null,
      "outputs": [
        {
          "output_type": "execute_result",
          "data": {
            "text/plain": [
              "White-European       233\n",
              "Asian                123\n",
              "'Middle Eastern '     92\n",
              "Black                 43\n",
              "'South Asian'         36\n",
              "Others                30\n",
              "Latino                20\n",
              "Hispanic              13\n",
              "Pasifika              12\n",
              "Turkish                6\n",
              "others                 1\n",
              "Name: ethnicity, dtype: int64"
            ]
          },
          "metadata": {
            "tags": []
          },
          "execution_count": 381
        }
      ]
    },
    {
      "cell_type": "code",
      "metadata": {
        "id": "8GxvClXsfGRt",
        "colab": {
          "base_uri": "https://localhost:8080/"
        },
        "outputId": "6a32c6c7-d899-4352-fd57-8f37b1f39f21"
      },
      "source": [
        "df['ethnicity'].describe()"
      ],
      "execution_count": null,
      "outputs": [
        {
          "output_type": "execute_result",
          "data": {
            "text/plain": [
              "count                609\n",
              "unique                11\n",
              "top       White-European\n",
              "freq                 233\n",
              "Name: ethnicity, dtype: object"
            ]
          },
          "metadata": {
            "tags": []
          },
          "execution_count": 382
        }
      ]
    },
    {
      "cell_type": "code",
      "metadata": {
        "id": "lSKQQYVvOJzP",
        "colab": {
          "base_uri": "https://localhost:8080/",
          "height": 370
        },
        "outputId": "ada90dfb-4ea7-40e3-c319-8cf2cb2cb10f"
      },
      "source": [
        "pmf = Pmf.from_seq(df['ethnicity'])\n",
        "pmf.bar(alpha=0.7)\n",
        "\n",
        "decorate(xlabel='Ethnic groups',\n",
        "         ylabel='PMF',\n",
        "         title='Distribution of Ethnicity')\n",
        "\n",
        "plt.xticks(rotation=90);"
      ],
      "execution_count": null,
      "outputs": [
        {
          "output_type": "display_data",
          "data": {
            "image/png": "[encoded data removed]",
            "text/plain": [
              "<Figure size 432x288 with 1 Axes>"
            ]
          },
          "metadata": {
            "tags": [],
            "needs_background": "light"
          }
        }
      ]
    },
    {
      "cell_type": "code",
      "metadata": {
        "id": "f550RdWIumG5"
      },
      "source": [
        "# ethnicity and relation column is going to be removed the df\n",
        "# df.drop([\"ethnicity\", \"relation\"], axis=1, inplace=True)\n"
      ],
      "execution_count": null,
      "outputs": []
    },
    {
      "cell_type": "code",
      "metadata": {
        "id": "2ViD88aIsmfI"
      },
      "source": [
        "# the missing values in the age column will be handled by replacing the NaNs with mean value of the ages\n",
        "#df[\"age\"] = df[\"age\"].apply(pd.to_numeric)\n",
        "#df[\"age\"] = df[\"age\"].replace(np.nan, df[\"age\"].mean())"
      ],
      "execution_count": null,
      "outputs": []
    },
    {
      "cell_type": "code",
      "metadata": {
        "id": "y6QPTAi7umHN"
      },
      "source": [
        "#label_encoder = LabelEncoder()\n",
        "\n",
        "#stringColumns = ['gender', 'jundice', 'autism', 'used_app_before','Class/ASD']\n",
        "#for column in stringColumns:\n",
        "#    df[column] = label_encoder.fit_transform(df[column])"
      ],
      "execution_count": null,
      "outputs": []
    },
    {
      "cell_type": "code",
      "metadata": {
        "id": "cz-oFPgAumHR"
      },
      "source": [
        ""
      ],
      "execution_count": null,
      "outputs": []
    },
    {
      "cell_type": "markdown",
      "metadata": {
        "id": "QQYZ02786_WQ"
      },
      "source": [
        "## Questions that we hope to answer\n",
        "\n",
        "\n",
        "- Do people who have jaundice have a higher chance of being autistic?\n",
        "\n",
        "- Does your ethnicity affect your chances of being autistic?\n",
        "\n",
        "- Do more females tend to autistic than males?\n"
      ]
    },
    {
      "cell_type": "markdown",
      "metadata": {
        "id": "RiM2hnaj0kiB"
      },
      "source": [
        "## Getting the distribution of the variables"
      ]
    },
    {
      "cell_type": "markdown",
      "metadata": {
        "id": "Q-cYyHPISH1-"
      },
      "source": [
        "###Distribution for ethnicity"
      ]
    },
    {
      "cell_type": "code",
      "metadata": {
        "id": "leKUJnV42GEB",
        "colab": {
          "base_uri": "https://localhost:8080/"
        },
        "outputId": "44c89cfa-893a-40f7-efe9-e67b201fdaa7"
      },
      "source": [
        "values(df['ethnicity'])"
      ],
      "execution_count": null,
      "outputs": [
        {
          "output_type": "execute_result",
          "data": {
            "text/plain": [
              "'Middle Eastern '     92\n",
              "'South Asian'         36\n",
              "Asian                123\n",
              "Black                 43\n",
              "Hispanic              13\n",
              "Latino                20\n",
              "Others                30\n",
              "Pasifika              12\n",
              "Turkish                6\n",
              "White-European       233\n",
              "others                 1\n",
              "Name: ethnicity, dtype: int64"
            ]
          },
          "metadata": {
            "tags": []
          },
          "execution_count": 387
        }
      ]
    },
    {
      "cell_type": "markdown",
      "metadata": {
        "id": "YHPwgYri4knp"
      },
      "source": [
        "There is an 'Others' and 'others' value which means they are the same. We will merge these two values."
      ]
    },
    {
      "cell_type": "code",
      "metadata": {
        "id": "JftAn5pC3Fap"
      },
      "source": [
        "df['ethnicity'] = df['ethnicity'].replace('Others', 'others')"
      ],
      "execution_count": null,
      "outputs": []
    },
    {
      "cell_type": "markdown",
      "metadata": {
        "id": "hPYWPGT94_WW"
      },
      "source": [
        "Now, we can visualize the Probability mass distribution of ethinicity "
      ]
    },
    {
      "cell_type": "code",
      "metadata": {
        "id": "Kx_QwpKvumHV",
        "colab": {
          "base_uri": "https://localhost:8080/",
          "height": 370
        },
        "outputId": "7c27e8ae-5c40-4a7b-f76d-bf4524d25c76"
      },
      "source": [
        "pmf = Pmf.from_seq(df['ethnicity'])\n",
        "pmf.bar(alpha=0.7)\n",
        "\n",
        "decorate(xlabel='Ethnic groups',\n",
        "         ylabel='PMF',\n",
        "         title='Distribution of Ethnicity')\n",
        "\n",
        "plt.xticks(rotation=90);"
      ],
      "execution_count": null,
      "outputs": [
        {
          "output_type": "display_data",
          "data": {
            "image/png": "[encoded data removed]",
            "text/plain": [
              "<Figure size 432x288 with 1 Axes>"
            ]
          },
          "metadata": {
            "tags": [],
            "needs_background": "light"
          }
        }
      ]
    },
    {
      "cell_type": "markdown",
      "metadata": {
        "id": "tqrYpwNh1Ml2"
      },
      "source": [
        "Use Groupby on Autism with jundice, gender and ethnicity"
      ]
    },
    {
      "cell_type": "markdown",
      "metadata": {
        "id": "m9mHlerH4ifi"
      },
      "source": [
        "Groupby Ethnicity and Autism"
      ]
    },
    {
      "cell_type": "code",
      "metadata": {
        "id": "c8bFowQKumHY"
      },
      "source": [
        "by_ethnicity = df.groupby(by= 'ethnicity')"
      ],
      "execution_count": null,
      "outputs": []
    },
    {
      "cell_type": "code",
      "metadata": {
        "id": "ICMTSMeUAmpP",
        "colab": {
          "base_uri": "https://localhost:8080/",
          "height": 693
        },
        "outputId": "4cd27907-e886-4a94-eb9e-ab98ad0713be"
      },
      "source": [
        "pd.DataFrame(by_ethnicity['autism'].value_counts())"
      ],
      "execution_count": null,
      "outputs": [
        {
          "output_type": "execute_result",
          "data": {
            "text/html": [
              "<div>\n",
              "<style scoped>\n",
              "    .dataframe tbody tr th:only-of-type {\n",
              "        vertical-align: middle;\n",
              "    }\n",
              "\n",
              "    .dataframe tbody tr th {\n",
              "        vertical-align: top;\n",
              "    }\n",
              "\n",
              "    .dataframe thead th {\n",
              "        text-align: right;\n",
              "    }\n",
              "</style>\n",
              "<table border=\"1\" class=\"dataframe\">\n",
              "  <thead>\n",
              "    <tr style=\"text-align: right;\">\n",
              "      <th></th>\n",
              "      <th></th>\n",
              "      <th>autism</th>\n",
              "    </tr>\n",
              "    <tr>\n",
              "      <th>ethnicity</th>\n",
              "      <th>autism</th>\n",
              "      <th></th>\n",
              "    </tr>\n",
              "  </thead>\n",
              "  <tbody>\n",
              "    <tr>\n",
              "      <th rowspan=\"2\" valign=\"top\">'Middle Eastern '</th>\n",
              "      <th>no</th>\n",
              "      <td>83</td>\n",
              "    </tr>\n",
              "    <tr>\n",
              "      <th>yes</th>\n",
              "      <td>9</td>\n",
              "    </tr>\n",
              "    <tr>\n",
              "      <th rowspan=\"2\" valign=\"top\">'South Asian'</th>\n",
              "      <th>no</th>\n",
              "      <td>34</td>\n",
              "    </tr>\n",
              "    <tr>\n",
              "      <th>yes</th>\n",
              "      <td>2</td>\n",
              "    </tr>\n",
              "    <tr>\n",
              "      <th rowspan=\"2\" valign=\"top\">Asian</th>\n",
              "      <th>no</th>\n",
              "      <td>118</td>\n",
              "    </tr>\n",
              "    <tr>\n",
              "      <th>yes</th>\n",
              "      <td>5</td>\n",
              "    </tr>\n",
              "    <tr>\n",
              "      <th rowspan=\"2\" valign=\"top\">Black</th>\n",
              "      <th>no</th>\n",
              "      <td>38</td>\n",
              "    </tr>\n",
              "    <tr>\n",
              "      <th>yes</th>\n",
              "      <td>5</td>\n",
              "    </tr>\n",
              "    <tr>\n",
              "      <th rowspan=\"2\" valign=\"top\">Hispanic</th>\n",
              "      <th>no</th>\n",
              "      <td>12</td>\n",
              "    </tr>\n",
              "    <tr>\n",
              "      <th>yes</th>\n",
              "      <td>1</td>\n",
              "    </tr>\n",
              "    <tr>\n",
              "      <th rowspan=\"2\" valign=\"top\">Latino</th>\n",
              "      <th>no</th>\n",
              "      <td>12</td>\n",
              "    </tr>\n",
              "    <tr>\n",
              "      <th>yes</th>\n",
              "      <td>8</td>\n",
              "    </tr>\n",
              "    <tr>\n",
              "      <th rowspan=\"2\" valign=\"top\">Pasifika</th>\n",
              "      <th>no</th>\n",
              "      <td>10</td>\n",
              "    </tr>\n",
              "    <tr>\n",
              "      <th>yes</th>\n",
              "      <td>2</td>\n",
              "    </tr>\n",
              "    <tr>\n",
              "      <th rowspan=\"2\" valign=\"top\">Turkish</th>\n",
              "      <th>no</th>\n",
              "      <td>5</td>\n",
              "    </tr>\n",
              "    <tr>\n",
              "      <th>yes</th>\n",
              "      <td>1</td>\n",
              "    </tr>\n",
              "    <tr>\n",
              "      <th rowspan=\"2\" valign=\"top\">White-European</th>\n",
              "      <th>no</th>\n",
              "      <td>183</td>\n",
              "    </tr>\n",
              "    <tr>\n",
              "      <th>yes</th>\n",
              "      <td>50</td>\n",
              "    </tr>\n",
              "    <tr>\n",
              "      <th rowspan=\"2\" valign=\"top\">others</th>\n",
              "      <th>no</th>\n",
              "      <td>29</td>\n",
              "    </tr>\n",
              "    <tr>\n",
              "      <th>yes</th>\n",
              "      <td>2</td>\n",
              "    </tr>\n",
              "  </tbody>\n",
              "</table>\n",
              "</div>"
            ],
            "text/plain": [
              "                          autism\n",
              "ethnicity         autism        \n",
              "'Middle Eastern ' no          83\n",
              "                  yes          9\n",
              "'South Asian'     no          34\n",
              "                  yes          2\n",
              "Asian             no         118\n",
              "                  yes          5\n",
              "Black             no          38\n",
              "                  yes          5\n",
              "Hispanic          no          12\n",
              "                  yes          1\n",
              "Latino            no          12\n",
              "                  yes          8\n",
              "Pasifika          no          10\n",
              "                  yes          2\n",
              "Turkish           no           5\n",
              "                  yes          1\n",
              "White-European    no         183\n",
              "                  yes         50\n",
              "others            no          29\n",
              "                  yes          2"
            ]
          },
          "metadata": {
            "tags": []
          },
          "execution_count": 391
        }
      ]
    },
    {
      "cell_type": "markdown",
      "metadata": {
        "id": "59gn6Imn8N94"
      },
      "source": [
        "recode autism response, yes 1, no 0"
      ]
    },
    {
      "cell_type": "code",
      "metadata": {
        "id": "m4L4iA5u6biB"
      },
      "source": [
        "df['autism_recoded']= df['autism'].replace({'yes':1,'no':0})"
      ],
      "execution_count": null,
      "outputs": []
    },
    {
      "cell_type": "code",
      "metadata": {
        "colab": {
          "base_uri": "https://localhost:8080/"
        },
        "id": "eF5pyXhE9EYc",
        "outputId": "0aef3752-50d2-475e-d3fd-c4ebeb0fb136"
      },
      "source": [
        "#recoded\n",
        "by_ethnicity['autism_recoded'].value_counts()"
      ],
      "execution_count": null,
      "outputs": [
        {
          "output_type": "execute_result",
          "data": {
            "text/plain": [
              "ethnicity          autism_recoded\n",
              "'Middle Eastern '  0                  83\n",
              "                   1                   9\n",
              "'South Asian'      0                  34\n",
              "                   1                   2\n",
              "Asian              0                 118\n",
              "                   1                   5\n",
              "Black              0                  38\n",
              "                   1                   5\n",
              "Hispanic           0                  12\n",
              "                   1                   1\n",
              "Latino             0                  12\n",
              "                   1                   8\n",
              "Pasifika           0                  10\n",
              "                   1                   2\n",
              "Turkish            0                   5\n",
              "                   1                   1\n",
              "White-European     0                 183\n",
              "                   1                  50\n",
              "others             0                  29\n",
              "                   1                   2\n",
              "Name: autism_recoded, dtype: int64"
            ]
          },
          "metadata": {
            "tags": []
          },
          "execution_count": 393
        }
      ]
    },
    {
      "cell_type": "code",
      "metadata": {
        "id": "DY7MK0-ZDv0E"
      },
      "source": [
        ""
      ],
      "execution_count": null,
      "outputs": []
    },
    {
      "cell_type": "markdown",
      "metadata": {
        "id": "tO3PMXXuDxKb"
      },
      "source": [
        "Latinos most likely to get autism, followed by white Europeans. Asians leat likely to get\n",
        "\n",
        "\n",
        "\n"
      ]
    },
    {
      "cell_type": "code",
      "metadata": {
        "colab": {
          "base_uri": "https://localhost:8080/",
          "height": 242
        },
        "id": "FedABEkp9ZHT",
        "outputId": "203a0c7e-ecc2-4be3-e368-b0a56dd073c9"
      },
      "source": [
        "pd.DataFrame(by_ethnicity['autism_recoded'].mean().sort_values(ascending = False)).style.background_gradient(cmap='Reds')"
      ],
      "execution_count": null,
      "outputs": [
        {
          "output_type": "execute_result",
          "data": {
            "text/html": [
              "<style  type=\"text/css\" >\n",
              "#T_c947ba0a_2c34_11eb_8770_0242ac1c0002row0_col0{\n",
              "            background-color:  #67000d;\n",
              "            color:  #f1f1f1;\n",
              "        }#T_c947ba0a_2c34_11eb_8770_0242ac1c0002row1_col0{\n",
              "            background-color:  #fb7050;\n",
              "            color:  #000000;\n",
              "        }#T_c947ba0a_2c34_11eb_8770_0242ac1c0002row2_col0,#T_c947ba0a_2c34_11eb_8770_0242ac1c0002row3_col0{\n",
              "            background-color:  #fc9b7c;\n",
              "            color:  #000000;\n",
              "        }#T_c947ba0a_2c34_11eb_8770_0242ac1c0002row4_col0{\n",
              "            background-color:  #fdc7b2;\n",
              "            color:  #000000;\n",
              "        }#T_c947ba0a_2c34_11eb_8770_0242ac1c0002row5_col0{\n",
              "            background-color:  #fdd7c6;\n",
              "            color:  #000000;\n",
              "        }#T_c947ba0a_2c34_11eb_8770_0242ac1c0002row6_col0{\n",
              "            background-color:  #fee5d8;\n",
              "            color:  #000000;\n",
              "        }#T_c947ba0a_2c34_11eb_8770_0242ac1c0002row7_col0{\n",
              "            background-color:  #feeae0;\n",
              "            color:  #000000;\n",
              "        }#T_c947ba0a_2c34_11eb_8770_0242ac1c0002row8_col0{\n",
              "            background-color:  #ffeee7;\n",
              "            color:  #000000;\n",
              "        }#T_c947ba0a_2c34_11eb_8770_0242ac1c0002row9_col0{\n",
              "            background-color:  #fff5f0;\n",
              "            color:  #000000;\n",
              "        }</style><table id=\"T_c947ba0a_2c34_11eb_8770_0242ac1c0002\" ><thead>    <tr>        <th class=\"blank level0\" ></th>        <th class=\"col_heading level0 col0\" >autism_recoded</th>    </tr>    <tr>        <th class=\"index_name level0\" >ethnicity</th>        <th class=\"blank\" ></th>    </tr></thead><tbody>\n",
              "                <tr>\n",
              "                        <th id=\"T_c947ba0a_2c34_11eb_8770_0242ac1c0002level0_row0\" class=\"row_heading level0 row0\" >Latino</th>\n",
              "                        <td id=\"T_c947ba0a_2c34_11eb_8770_0242ac1c0002row0_col0\" class=\"data row0 col0\" >0.400000</td>\n",
              "            </tr>\n",
              "            <tr>\n",
              "                        <th id=\"T_c947ba0a_2c34_11eb_8770_0242ac1c0002level0_row1\" class=\"row_heading level0 row1\" >White-European</th>\n",
              "                        <td id=\"T_c947ba0a_2c34_11eb_8770_0242ac1c0002row1_col0\" class=\"data row1 col0\" >0.214592</td>\n",
              "            </tr>\n",
              "            <tr>\n",
              "                        <th id=\"T_c947ba0a_2c34_11eb_8770_0242ac1c0002level0_row2\" class=\"row_heading level0 row2\" >Turkish</th>\n",
              "                        <td id=\"T_c947ba0a_2c34_11eb_8770_0242ac1c0002row2_col0\" class=\"data row2 col0\" >0.166667</td>\n",
              "            </tr>\n",
              "            <tr>\n",
              "                        <th id=\"T_c947ba0a_2c34_11eb_8770_0242ac1c0002level0_row3\" class=\"row_heading level0 row3\" >Pasifika</th>\n",
              "                        <td id=\"T_c947ba0a_2c34_11eb_8770_0242ac1c0002row3_col0\" class=\"data row3 col0\" >0.166667</td>\n",
              "            </tr>\n",
              "            <tr>\n",
              "                        <th id=\"T_c947ba0a_2c34_11eb_8770_0242ac1c0002level0_row4\" class=\"row_heading level0 row4\" >Black</th>\n",
              "                        <td id=\"T_c947ba0a_2c34_11eb_8770_0242ac1c0002row4_col0\" class=\"data row4 col0\" >0.116279</td>\n",
              "            </tr>\n",
              "            <tr>\n",
              "                        <th id=\"T_c947ba0a_2c34_11eb_8770_0242ac1c0002level0_row5\" class=\"row_heading level0 row5\" >'Middle Eastern '</th>\n",
              "                        <td id=\"T_c947ba0a_2c34_11eb_8770_0242ac1c0002row5_col0\" class=\"data row5 col0\" >0.097826</td>\n",
              "            </tr>\n",
              "            <tr>\n",
              "                        <th id=\"T_c947ba0a_2c34_11eb_8770_0242ac1c0002level0_row6\" class=\"row_heading level0 row6\" >Hispanic</th>\n",
              "                        <td id=\"T_c947ba0a_2c34_11eb_8770_0242ac1c0002row6_col0\" class=\"data row6 col0\" >0.076923</td>\n",
              "            </tr>\n",
              "            <tr>\n",
              "                        <th id=\"T_c947ba0a_2c34_11eb_8770_0242ac1c0002level0_row7\" class=\"row_heading level0 row7\" >others</th>\n",
              "                        <td id=\"T_c947ba0a_2c34_11eb_8770_0242ac1c0002row7_col0\" class=\"data row7 col0\" >0.064516</td>\n",
              "            </tr>\n",
              "            <tr>\n",
              "                        <th id=\"T_c947ba0a_2c34_11eb_8770_0242ac1c0002level0_row8\" class=\"row_heading level0 row8\" >'South Asian'</th>\n",
              "                        <td id=\"T_c947ba0a_2c34_11eb_8770_0242ac1c0002row8_col0\" class=\"data row8 col0\" >0.055556</td>\n",
              "            </tr>\n",
              "            <tr>\n",
              "                        <th id=\"T_c947ba0a_2c34_11eb_8770_0242ac1c0002level0_row9\" class=\"row_heading level0 row9\" >Asian</th>\n",
              "                        <td id=\"T_c947ba0a_2c34_11eb_8770_0242ac1c0002row9_col0\" class=\"data row9 col0\" >0.040650</td>\n",
              "            </tr>\n",
              "    </tbody></table>"
            ],
            "text/plain": [
              "<pandas.io.formats.style.Styler at 0x7f402386b550>"
            ]
          },
          "metadata": {
            "tags": []
          },
          "execution_count": 394
        }
      ]
    },
    {
      "cell_type": "code",
      "metadata": {
        "id": "0UNhz-wXEE6Y"
      },
      "source": [
        ""
      ],
      "execution_count": null,
      "outputs": []
    },
    {
      "cell_type": "markdown",
      "metadata": {
        "id": "FYSg-7cj5U8Z"
      },
      "source": [
        "By Gender"
      ]
    },
    {
      "cell_type": "code",
      "metadata": {
        "id": "chcVApWryEkI"
      },
      "source": [
        "by_gender = df.groupby('gender')"
      ],
      "execution_count": null,
      "outputs": []
    },
    {
      "cell_type": "code",
      "metadata": {
        "id": "j43DpwsBTLfl",
        "colab": {
          "base_uri": "https://localhost:8080/",
          "height": 202
        },
        "outputId": "004e554e-936a-4b0c-bd00-fef3841c24e6"
      },
      "source": [
        "pd.DataFrame(by_gender['autism'].value_counts())"
      ],
      "execution_count": null,
      "outputs": [
        {
          "output_type": "execute_result",
          "data": {
            "text/html": [
              "<div>\n",
              "<style scoped>\n",
              "    .dataframe tbody tr th:only-of-type {\n",
              "        vertical-align: middle;\n",
              "    }\n",
              "\n",
              "    .dataframe tbody tr th {\n",
              "        vertical-align: top;\n",
              "    }\n",
              "\n",
              "    .dataframe thead th {\n",
              "        text-align: right;\n",
              "    }\n",
              "</style>\n",
              "<table border=\"1\" class=\"dataframe\">\n",
              "  <thead>\n",
              "    <tr style=\"text-align: right;\">\n",
              "      <th></th>\n",
              "      <th></th>\n",
              "      <th>autism</th>\n",
              "    </tr>\n",
              "    <tr>\n",
              "      <th>gender</th>\n",
              "      <th>autism</th>\n",
              "      <th></th>\n",
              "    </tr>\n",
              "  </thead>\n",
              "  <tbody>\n",
              "    <tr>\n",
              "      <th rowspan=\"2\" valign=\"top\">f</th>\n",
              "      <th>no</th>\n",
              "      <td>283</td>\n",
              "    </tr>\n",
              "    <tr>\n",
              "      <th>yes</th>\n",
              "      <td>54</td>\n",
              "    </tr>\n",
              "    <tr>\n",
              "      <th rowspan=\"2\" valign=\"top\">m</th>\n",
              "      <th>no</th>\n",
              "      <td>330</td>\n",
              "    </tr>\n",
              "    <tr>\n",
              "      <th>yes</th>\n",
              "      <td>37</td>\n",
              "    </tr>\n",
              "  </tbody>\n",
              "</table>\n",
              "</div>"
            ],
            "text/plain": [
              "               autism\n",
              "gender autism        \n",
              "f      no         283\n",
              "       yes         54\n",
              "m      no         330\n",
              "       yes         37"
            ]
          },
          "metadata": {
            "tags": []
          },
          "execution_count": 396
        }
      ]
    },
    {
      "cell_type": "code",
      "metadata": {
        "id": "WAZ7Hx495d1p"
      },
      "source": [
        "#df['gender_recoded'] = df['gender'].replace({'m':1,'f':0})"
      ],
      "execution_count": null,
      "outputs": []
    },
    {
      "cell_type": "markdown",
      "metadata": {
        "id": "u2V5apCGGls8"
      },
      "source": [
        "Females more likely autism"
      ]
    },
    {
      "cell_type": "code",
      "metadata": {
        "colab": {
          "base_uri": "https://localhost:8080/"
        },
        "id": "kwbtihmCBiDg",
        "outputId": "334ef4e1-c0f7-43a0-ea13-825ed0244583"
      },
      "source": [
        "by_gender['autism_recoded'].mean()"
      ],
      "execution_count": null,
      "outputs": [
        {
          "output_type": "execute_result",
          "data": {
            "text/plain": [
              "gender\n",
              "f    0.160237\n",
              "m    0.100817\n",
              "Name: autism_recoded, dtype: float64"
            ]
          },
          "metadata": {
            "tags": []
          },
          "execution_count": 398
        }
      ]
    },
    {
      "cell_type": "code",
      "metadata": {
        "id": "RZOcz-kQBiBH"
      },
      "source": [
        ""
      ],
      "execution_count": null,
      "outputs": []
    },
    {
      "cell_type": "markdown",
      "metadata": {
        "id": "xv_niJgOG25l"
      },
      "source": [
        "By Jundice"
      ]
    },
    {
      "cell_type": "code",
      "metadata": {
        "id": "aPEiZ7zXG7Zd"
      },
      "source": [
        "by_jundice = df.groupby('jundice')"
      ],
      "execution_count": null,
      "outputs": []
    },
    {
      "cell_type": "markdown",
      "metadata": {
        "id": "ixOu9R2LHqvy"
      },
      "source": [
        "Jundice is more likely to cause autsim"
      ]
    },
    {
      "cell_type": "code",
      "metadata": {
        "colab": {
          "base_uri": "https://localhost:8080/"
        },
        "id": "KftvyccDG7cg",
        "outputId": "12c4bf2e-86e1-44da-8d94-2f3dc4ac8db5"
      },
      "source": [
        "by_jundice['autism_recoded'].mean()"
      ],
      "execution_count": null,
      "outputs": [
        {
          "output_type": "execute_result",
          "data": {
            "text/plain": [
              "jundice\n",
              "no     0.111811\n",
              "yes    0.289855\n",
              "Name: autism_recoded, dtype: float64"
            ]
          },
          "metadata": {
            "tags": []
          },
          "execution_count": 400
        }
      ]
    },
    {
      "cell_type": "code",
      "metadata": {
        "id": "5eeobf0pG7fg"
      },
      "source": [
        ""
      ],
      "execution_count": null,
      "outputs": []
    },
    {
      "cell_type": "markdown",
      "metadata": {
        "id": "EuvB5KqEIlAH"
      },
      "source": [
        "By age\n",
        "\n",
        "Recode the ages on a 6 point scale"
      ]
    },
    {
      "cell_type": "code",
      "metadata": {
        "colab": {
          "base_uri": "https://localhost:8080/"
        },
        "id": "9PLUwVMGG7kU",
        "outputId": "faf7a075-4994-45c1-b4de-89cb86f612a6"
      },
      "source": [
        "df['age'].describe()"
      ],
      "execution_count": null,
      "outputs": [
        {
          "output_type": "execute_result",
          "data": {
            "text/plain": [
              "count    704.000000\n",
              "mean      29.209985\n",
              "std        9.693863\n",
              "min       17.000000\n",
              "25%       21.000000\n",
              "50%       27.000000\n",
              "75%       35.000000\n",
              "max       64.000000\n",
              "Name: age, dtype: float64"
            ]
          },
          "metadata": {
            "tags": []
          },
          "execution_count": 401
        }
      ]
    },
    {
      "cell_type": "code",
      "metadata": {
        "colab": {
          "base_uri": "https://localhost:8080/",
          "height": 317
        },
        "id": "DJqHQp1UJcD7",
        "outputId": "3fa7c4d3-9aca-48c6-f492-6d95fd53be8a"
      },
      "source": [
        "plt.hist(df['age'],[10,20,30,40,50,60,70])"
      ],
      "execution_count": null,
      "outputs": [
        {
          "output_type": "execute_result",
          "data": {
            "text/plain": [
              "(array([ 84., 340., 166.,  80.,  30.,   4.]),\n",
              " array([10, 20, 30, 40, 50, 60, 70]),\n",
              " <a list of 6 Patch objects>)"
            ]
          },
          "metadata": {
            "tags": []
          },
          "execution_count": 402
        },
        {
          "output_type": "display_data",
          "data": {
            "image/png": "[encoded data removed]",
            "text/plain": [
              "<Figure size 432x288 with 1 Axes>"
            ]
          },
          "metadata": {
            "tags": [],
            "needs_background": "light"
          }
        }
      ]
    },
    {
      "cell_type": "code",
      "metadata": {
        "colab": {
          "base_uri": "https://localhost:8080/"
        },
        "id": "W0o9N2T_JcWD",
        "outputId": "b27b7030-b1fa-4e06-a454-86d5d64c3764"
      },
      "source": [
        "codes = {}\n",
        "bins = [10,20,30,40,50,60,70]\n",
        "for i in range(int(df['age'].min()),int(df['age'].max()+1)): #generate ages in the distribution\n",
        "   if i>bins[0] and i<=bins[1]:\n",
        "     codes[i] = '10_20'\n",
        "   if i>bins[1] and i<=bins[2]:\n",
        "     codes[i] = '20_30'\n",
        "   if i>bins[2] and i<=bins[3]:\n",
        "     codes[i] = '30_40'\n",
        "   if i>bins[3] and i<=bins[4]:\n",
        "     codes[i] = '40_50'\n",
        "   if i>bins[4] and i<=bins[5]:\n",
        "     codes[i] = '50_60'\n",
        "   if i>bins[5] and i<=bins[6]:\n",
        "     codes[i] = '60_70'\n",
        "   \n",
        "\n",
        "codes"
      ],
      "execution_count": null,
      "outputs": [
        {
          "output_type": "execute_result",
          "data": {
            "text/plain": [
              "{17: '10_20',\n",
              " 18: '10_20',\n",
              " 19: '10_20',\n",
              " 20: '10_20',\n",
              " 21: '20_30',\n",
              " 22: '20_30',\n",
              " 23: '20_30',\n",
              " 24: '20_30',\n",
              " 25: '20_30',\n",
              " 26: '20_30',\n",
              " 27: '20_30',\n",
              " 28: '20_30',\n",
              " 29: '20_30',\n",
              " 30: '20_30',\n",
              " 31: '30_40',\n",
              " 32: '30_40',\n",
              " 33: '30_40',\n",
              " 34: '30_40',\n",
              " 35: '30_40',\n",
              " 36: '30_40',\n",
              " 37: '30_40',\n",
              " 38: '30_40',\n",
              " 39: '30_40',\n",
              " 40: '30_40',\n",
              " 41: '40_50',\n",
              " 42: '40_50',\n",
              " 43: '40_50',\n",
              " 44: '40_50',\n",
              " 45: '40_50',\n",
              " 46: '40_50',\n",
              " 47: '40_50',\n",
              " 48: '40_50',\n",
              " 49: '40_50',\n",
              " 50: '40_50',\n",
              " 51: '50_60',\n",
              " 52: '50_60',\n",
              " 53: '50_60',\n",
              " 54: '50_60',\n",
              " 55: '50_60',\n",
              " 56: '50_60',\n",
              " 57: '50_60',\n",
              " 58: '50_60',\n",
              " 59: '50_60',\n",
              " 60: '50_60',\n",
              " 61: '60_70',\n",
              " 62: '60_70',\n",
              " 63: '60_70',\n",
              " 64: '60_70'}"
            ]
          },
          "metadata": {
            "tags": []
          },
          "execution_count": 403
        }
      ]
    },
    {
      "cell_type": "code",
      "metadata": {
        "colab": {
          "base_uri": "https://localhost:8080/"
        },
        "id": "9gdnEDfvSQIQ",
        "outputId": "0fdfdb42-494a-46d2-9d19-787ff7d2a202"
      },
      "source": [
        "#check if nothing was counted and recoded 2 times\n",
        "len(codes)#== len(df)"
      ],
      "execution_count": null,
      "outputs": [
        {
          "output_type": "execute_result",
          "data": {
            "text/plain": [
              "48"
            ]
          },
          "metadata": {
            "tags": []
          },
          "execution_count": 404
        }
      ]
    },
    {
      "cell_type": "code",
      "metadata": {
        "id": "KE-Y65q7Kudy"
      },
      "source": [
        "df['age_recoded'] = df['age'].replace(codes)"
      ],
      "execution_count": null,
      "outputs": []
    },
    {
      "cell_type": "code",
      "metadata": {
        "id": "mgqQ215YQYi1"
      },
      "source": [
        "#df['age'].value_counts()"
      ],
      "execution_count": null,
      "outputs": []
    },
    {
      "cell_type": "markdown",
      "metadata": {
        "id": "4JipFVy0O95Y"
      },
      "source": [
        "now group_by recoded categorical age"
      ]
    },
    {
      "cell_type": "code",
      "metadata": {
        "id": "mcz_f4WNO45f"
      },
      "source": [
        "by_age = df.groupby('age_recoded')"
      ],
      "execution_count": null,
      "outputs": []
    },
    {
      "cell_type": "code",
      "metadata": {
        "colab": {
          "base_uri": "https://localhost:8080/"
        },
        "id": "PtH_vH6JPMFd",
        "outputId": "e49d9fc7-94f7-4082-c5dc-e6294d55b811"
      },
      "source": [
        "by_age['autism_recoded'].value_counts()"
      ],
      "execution_count": null,
      "outputs": [
        {
          "output_type": "execute_result",
          "data": {
            "text/plain": [
              "age_recoded        autism_recoded\n",
              "32.94318181818182  0                   3\n",
              "10_20              0                 122\n",
              "                   1                   8\n",
              "20_30              0                 298\n",
              "                   1                  26\n",
              "30_40              0                 110\n",
              "                   1                  39\n",
              "40_50              0                  56\n",
              "                   1                  13\n",
              "50_60              0                  22\n",
              "                   1                   4\n",
              "60_70              0                   2\n",
              "                   1                   1\n",
              "Name: autism_recoded, dtype: int64"
            ]
          },
          "metadata": {
            "tags": []
          },
          "execution_count": 408
        }
      ]
    },
    {
      "cell_type": "code",
      "metadata": {
        "id": "FLOcmuc0S5zc"
      },
      "source": [
        ""
      ],
      "execution_count": null,
      "outputs": []
    },
    {
      "cell_type": "markdown",
      "metadata": {
        "id": "CJvyRl73S6KH"
      },
      "source": [
        "Older people most likly to get autism. Seemed a little surprising to me so I did a little research. Here are some sources that talk about this."
      ]
    },
    {
      "cell_type": "code",
      "metadata": {
        "colab": {
          "base_uri": "https://localhost:8080/",
          "height": 186
        },
        "id": "_LnMQD3IQDEP",
        "outputId": "7438a5f7-e6a6-4045-f1b4-f1ee1016d9a1"
      },
      "source": [
        "pd.DataFrame(by_age['autism_recoded'].mean().sort_values(ascending = False)).style.background_gradient(cmap = 'Reds')"
      ],
      "execution_count": null,
      "outputs": [
        {
          "output_type": "execute_result",
          "data": {
            "text/html": [
              "<style  type=\"text/css\" >\n",
              "#T_c98e0654_2c34_11eb_8770_0242ac1c0002row0_col0{\n",
              "            background-color:  #67000d;\n",
              "            color:  #f1f1f1;\n",
              "        }#T_c98e0654_2c34_11eb_8770_0242ac1c0002row1_col0{\n",
              "            background-color:  #bf151b;\n",
              "            color:  #f1f1f1;\n",
              "        }#T_c98e0654_2c34_11eb_8770_0242ac1c0002row2_col0{\n",
              "            background-color:  #f5523a;\n",
              "            color:  #000000;\n",
              "        }#T_c98e0654_2c34_11eb_8770_0242ac1c0002row3_col0{\n",
              "            background-color:  #fb7656;\n",
              "            color:  #000000;\n",
              "        }#T_c98e0654_2c34_11eb_8770_0242ac1c0002row4_col0{\n",
              "            background-color:  #fcbea5;\n",
              "            color:  #000000;\n",
              "        }#T_c98e0654_2c34_11eb_8770_0242ac1c0002row5_col0{\n",
              "            background-color:  #fdcebb;\n",
              "            color:  #000000;\n",
              "        }#T_c98e0654_2c34_11eb_8770_0242ac1c0002row6_col0{\n",
              "            background-color:  #fff5f0;\n",
              "            color:  #000000;\n",
              "        }</style><table id=\"T_c98e0654_2c34_11eb_8770_0242ac1c0002\" ><thead>    <tr>        <th class=\"blank level0\" ></th>        <th class=\"col_heading level0 col0\" >autism_recoded</th>    </tr>    <tr>        <th class=\"index_name level0\" >age_recoded</th>        <th class=\"blank\" ></th>    </tr></thead><tbody>\n",
              "                <tr>\n",
              "                        <th id=\"T_c98e0654_2c34_11eb_8770_0242ac1c0002level0_row0\" class=\"row_heading level0 row0\" >60_70</th>\n",
              "                        <td id=\"T_c98e0654_2c34_11eb_8770_0242ac1c0002row0_col0\" class=\"data row0 col0\" >0.333333</td>\n",
              "            </tr>\n",
              "            <tr>\n",
              "                        <th id=\"T_c98e0654_2c34_11eb_8770_0242ac1c0002level0_row1\" class=\"row_heading level0 row1\" >30_40</th>\n",
              "                        <td id=\"T_c98e0654_2c34_11eb_8770_0242ac1c0002row1_col0\" class=\"data row1 col0\" >0.261745</td>\n",
              "            </tr>\n",
              "            <tr>\n",
              "                        <th id=\"T_c98e0654_2c34_11eb_8770_0242ac1c0002level0_row2\" class=\"row_heading level0 row2\" >40_50</th>\n",
              "                        <td id=\"T_c98e0654_2c34_11eb_8770_0242ac1c0002row2_col0\" class=\"data row2 col0\" >0.188406</td>\n",
              "            </tr>\n",
              "            <tr>\n",
              "                        <th id=\"T_c98e0654_2c34_11eb_8770_0242ac1c0002level0_row3\" class=\"row_heading level0 row3\" >50_60</th>\n",
              "                        <td id=\"T_c98e0654_2c34_11eb_8770_0242ac1c0002row3_col0\" class=\"data row3 col0\" >0.153846</td>\n",
              "            </tr>\n",
              "            <tr>\n",
              "                        <th id=\"T_c98e0654_2c34_11eb_8770_0242ac1c0002level0_row4\" class=\"row_heading level0 row4\" >20_30</th>\n",
              "                        <td id=\"T_c98e0654_2c34_11eb_8770_0242ac1c0002row4_col0\" class=\"data row4 col0\" >0.080247</td>\n",
              "            </tr>\n",
              "            <tr>\n",
              "                        <th id=\"T_c98e0654_2c34_11eb_8770_0242ac1c0002level0_row5\" class=\"row_heading level0 row5\" >10_20</th>\n",
              "                        <td id=\"T_c98e0654_2c34_11eb_8770_0242ac1c0002row5_col0\" class=\"data row5 col0\" >0.061538</td>\n",
              "            </tr>\n",
              "            <tr>\n",
              "                        <th id=\"T_c98e0654_2c34_11eb_8770_0242ac1c0002level0_row6\" class=\"row_heading level0 row6\" >32.94318181818182</th>\n",
              "                        <td id=\"T_c98e0654_2c34_11eb_8770_0242ac1c0002row6_col0\" class=\"data row6 col0\" >0.000000</td>\n",
              "            </tr>\n",
              "    </tbody></table>"
            ],
            "text/plain": [
              "<pandas.io.formats.style.Styler at 0x7f4019eccda0>"
            ]
          },
          "metadata": {
            "tags": []
          },
          "execution_count": 409
        }
      ]
    },
    {
      "cell_type": "markdown",
      "metadata": {
        "id": "VQAHZlX7UTYJ"
      },
      "source": [
        "Now to explore the correlation between these variables\n",
        "- Autism\n",
        "- Jundice\n",
        "- Gender"
      ]
    },
    {
      "cell_type": "markdown",
      "metadata": {
        "id": "GFlQHRAYYB4G"
      },
      "source": [
        "Recode the rest of the binary variables, Jundice and Gender\n",
        "- gender  `->` male 1, female 0\n",
        "- jundice `->` yes 1, no 0\n"
      ]
    },
    {
      "cell_type": "code",
      "metadata": {
        "id": "Vn2HqVn9XlXE"
      },
      "source": [
        "#recode jundice\n",
        "df['jundice_recoded'] = df['jundice'].replace({'yes':1,'no':0})\n",
        "df['gender_recoded'] = df['gender'].replace({'m':1,'f':0})"
      ],
      "execution_count": null,
      "outputs": []
    },
    {
      "cell_type": "code",
      "metadata": {
        "id": "6z-zL2eGab9x",
        "colab": {
          "base_uri": "https://localhost:8080/",
          "height": 416
        },
        "outputId": "ce626ccd-64ad-4654-81a7-0b375dc56e49"
      },
      "source": [
        "columns = ['autism_recoded', 'jundice_recoded', 'gender_recoded',]\n",
        "subset = df[columns]\n",
        "subset"
      ],
      "execution_count": null,
      "outputs": [
        {
          "output_type": "execute_result",
          "data": {
            "text/html": [
              "<div>\n",
              "<style scoped>\n",
              "    .dataframe tbody tr th:only-of-type {\n",
              "        vertical-align: middle;\n",
              "    }\n",
              "\n",
              "    .dataframe tbody tr th {\n",
              "        vertical-align: top;\n",
              "    }\n",
              "\n",
              "    .dataframe thead th {\n",
              "        text-align: right;\n",
              "    }\n",
              "</style>\n",
              "<table border=\"1\" class=\"dataframe\">\n",
              "  <thead>\n",
              "    <tr style=\"text-align: right;\">\n",
              "      <th></th>\n",
              "      <th>autism_recoded</th>\n",
              "      <th>jundice_recoded</th>\n",
              "      <th>gender_recoded</th>\n",
              "    </tr>\n",
              "  </thead>\n",
              "  <tbody>\n",
              "    <tr>\n",
              "      <th>0</th>\n",
              "      <td>0</td>\n",
              "      <td>0</td>\n",
              "      <td>0</td>\n",
              "    </tr>\n",
              "    <tr>\n",
              "      <th>1</th>\n",
              "      <td>1</td>\n",
              "      <td>0</td>\n",
              "      <td>1</td>\n",
              "    </tr>\n",
              "    <tr>\n",
              "      <th>2</th>\n",
              "      <td>1</td>\n",
              "      <td>1</td>\n",
              "      <td>1</td>\n",
              "    </tr>\n",
              "    <tr>\n",
              "      <th>3</th>\n",
              "      <td>1</td>\n",
              "      <td>0</td>\n",
              "      <td>0</td>\n",
              "    </tr>\n",
              "    <tr>\n",
              "      <th>4</th>\n",
              "      <td>0</td>\n",
              "      <td>0</td>\n",
              "      <td>0</td>\n",
              "    </tr>\n",
              "    <tr>\n",
              "      <th>...</th>\n",
              "      <td>...</td>\n",
              "      <td>...</td>\n",
              "      <td>...</td>\n",
              "    </tr>\n",
              "    <tr>\n",
              "      <th>699</th>\n",
              "      <td>0</td>\n",
              "      <td>0</td>\n",
              "      <td>0</td>\n",
              "    </tr>\n",
              "    <tr>\n",
              "      <th>700</th>\n",
              "      <td>0</td>\n",
              "      <td>0</td>\n",
              "      <td>1</td>\n",
              "    </tr>\n",
              "    <tr>\n",
              "      <th>701</th>\n",
              "      <td>0</td>\n",
              "      <td>0</td>\n",
              "      <td>0</td>\n",
              "    </tr>\n",
              "    <tr>\n",
              "      <th>702</th>\n",
              "      <td>0</td>\n",
              "      <td>0</td>\n",
              "      <td>1</td>\n",
              "    </tr>\n",
              "    <tr>\n",
              "      <th>703</th>\n",
              "      <td>0</td>\n",
              "      <td>0</td>\n",
              "      <td>0</td>\n",
              "    </tr>\n",
              "  </tbody>\n",
              "</table>\n",
              "<p>704 rows × 3 columns</p>\n",
              "</div>"
            ],
            "text/plain": [
              "     autism_recoded  jundice_recoded  gender_recoded\n",
              "0                 0                0               0\n",
              "1                 1                0               1\n",
              "2                 1                1               1\n",
              "3                 1                0               0\n",
              "4                 0                0               0\n",
              "..              ...              ...             ...\n",
              "699               0                0               0\n",
              "700               0                0               1\n",
              "701               0                0               0\n",
              "702               0                0               1\n",
              "703               0                0               0\n",
              "\n",
              "[704 rows x 3 columns]"
            ]
          },
          "metadata": {
            "tags": []
          },
          "execution_count": 411
        }
      ]
    },
    {
      "cell_type": "markdown",
      "metadata": {
        "id": "jfWkrwxUBfdZ"
      },
      "source": [
        "Correlation"
      ]
    },
    {
      "cell_type": "code",
      "metadata": {
        "id": "bYxi5Qw3yFmn",
        "colab": {
          "base_uri": "https://localhost:8080/",
          "height": 141
        },
        "outputId": "1ac0dbc1-a4f6-4131-9415-4a02f9f9448f"
      },
      "source": [
        "subset.corr()"
      ],
      "execution_count": null,
      "outputs": [
        {
          "output_type": "execute_result",
          "data": {
            "text/html": [
              "<div>\n",
              "<style scoped>\n",
              "    .dataframe tbody tr th:only-of-type {\n",
              "        vertical-align: middle;\n",
              "    }\n",
              "\n",
              "    .dataframe tbody tr th {\n",
              "        vertical-align: top;\n",
              "    }\n",
              "\n",
              "    .dataframe thead th {\n",
              "        text-align: right;\n",
              "    }\n",
              "</style>\n",
              "<table border=\"1\" class=\"dataframe\">\n",
              "  <thead>\n",
              "    <tr style=\"text-align: right;\">\n",
              "      <th></th>\n",
              "      <th>autism_recoded</th>\n",
              "      <th>jundice_recoded</th>\n",
              "      <th>gender_recoded</th>\n",
              "    </tr>\n",
              "  </thead>\n",
              "  <tbody>\n",
              "    <tr>\n",
              "      <th>autism_recoded</th>\n",
              "      <td>1.000000</td>\n",
              "      <td>0.157793</td>\n",
              "      <td>-0.088477</td>\n",
              "    </tr>\n",
              "    <tr>\n",
              "      <th>jundice_recoded</th>\n",
              "      <td>0.157793</td>\n",
              "      <td>1.000000</td>\n",
              "      <td>-0.018842</td>\n",
              "    </tr>\n",
              "    <tr>\n",
              "      <th>gender_recoded</th>\n",
              "      <td>-0.088477</td>\n",
              "      <td>-0.018842</td>\n",
              "      <td>1.000000</td>\n",
              "    </tr>\n",
              "  </tbody>\n",
              "</table>\n",
              "</div>"
            ],
            "text/plain": [
              "                 autism_recoded  jundice_recoded  gender_recoded\n",
              "autism_recoded         1.000000         0.157793       -0.088477\n",
              "jundice_recoded        0.157793         1.000000       -0.018842\n",
              "gender_recoded        -0.088477        -0.018842        1.000000"
            ]
          },
          "metadata": {
            "tags": []
          },
          "execution_count": 412
        }
      ]
    },
    {
      "cell_type": "markdown",
      "metadata": {
        "id": "mE3N24EqNoy_"
      },
      "source": [
        "# Plotting the results"
      ]
    },
    {
      "cell_type": "markdown",
      "metadata": {
        "id": "o-HTN_5wNzPs"
      },
      "source": [
        "We are going to create a pivot table that investigates how autism is related to \n",
        "\n",
        "- age and ethnicity\n",
        "- age and gender\n",
        "- age and jundice"
      ]
    },
    {
      "cell_type": "markdown",
      "metadata": {
        "id": "UDEUJjUROjWG"
      },
      "source": [
        "## Age and Ethnicity\n",
        "-------------------"
      ]
    },
    {
      "cell_type": "code",
      "metadata": {
        "id": "dY2PAhLmyG0M"
      },
      "source": [
        "table = df.pivot_table(values = 'autism_recoded',index = 'age',columns = 'ethnicity',aggfunc = 'mean')"
      ],
      "execution_count": null,
      "outputs": []
    },
    {
      "cell_type": "markdown",
      "metadata": {
        "id": "3VG8C6CgW-Vo"
      },
      "source": [
        ""
      ]
    },
    {
      "cell_type": "code",
      "metadata": {
        "colab": {
          "base_uri": "https://localhost:8080/",
          "height": 233
        },
        "id": "aRzW8GpbI0yi",
        "outputId": "30665615-f98a-4ab3-ce25-6239b5096243"
      },
      "source": [
        "table.head()"
      ],
      "execution_count": null,
      "outputs": [
        {
          "output_type": "execute_result",
          "data": {
            "text/html": [
              "<div>\n",
              "<style scoped>\n",
              "    .dataframe tbody tr th:only-of-type {\n",
              "        vertical-align: middle;\n",
              "    }\n",
              "\n",
              "    .dataframe tbody tr th {\n",
              "        vertical-align: top;\n",
              "    }\n",
              "\n",
              "    .dataframe thead th {\n",
              "        text-align: right;\n",
              "    }\n",
              "</style>\n",
              "<table border=\"1\" class=\"dataframe\">\n",
              "  <thead>\n",
              "    <tr style=\"text-align: right;\">\n",
              "      <th>ethnicity</th>\n",
              "      <th>'Middle Eastern '</th>\n",
              "      <th>'South Asian'</th>\n",
              "      <th>Asian</th>\n",
              "      <th>Black</th>\n",
              "      <th>Hispanic</th>\n",
              "      <th>Latino</th>\n",
              "      <th>Pasifika</th>\n",
              "      <th>Turkish</th>\n",
              "      <th>White-European</th>\n",
              "      <th>others</th>\n",
              "    </tr>\n",
              "    <tr>\n",
              "      <th>age</th>\n",
              "      <th></th>\n",
              "      <th></th>\n",
              "      <th></th>\n",
              "      <th></th>\n",
              "      <th></th>\n",
              "      <th></th>\n",
              "      <th></th>\n",
              "      <th></th>\n",
              "      <th></th>\n",
              "      <th></th>\n",
              "    </tr>\n",
              "  </thead>\n",
              "  <tbody>\n",
              "    <tr>\n",
              "      <th>17.0</th>\n",
              "      <td>0.000000</td>\n",
              "      <td>0.0</td>\n",
              "      <td>0.5</td>\n",
              "      <td>0.000000</td>\n",
              "      <td>NaN</td>\n",
              "      <td>NaN</td>\n",
              "      <td>NaN</td>\n",
              "      <td>NaN</td>\n",
              "      <td>0.166667</td>\n",
              "      <td>NaN</td>\n",
              "    </tr>\n",
              "    <tr>\n",
              "      <th>18.0</th>\n",
              "      <td>0.076923</td>\n",
              "      <td>1.0</td>\n",
              "      <td>0.0</td>\n",
              "      <td>0.000000</td>\n",
              "      <td>NaN</td>\n",
              "      <td>NaN</td>\n",
              "      <td>NaN</td>\n",
              "      <td>NaN</td>\n",
              "      <td>0.090909</td>\n",
              "      <td>NaN</td>\n",
              "    </tr>\n",
              "    <tr>\n",
              "      <th>19.0</th>\n",
              "      <td>0.000000</td>\n",
              "      <td>0.0</td>\n",
              "      <td>0.0</td>\n",
              "      <td>0.000000</td>\n",
              "      <td>0.0</td>\n",
              "      <td>1.000000</td>\n",
              "      <td>NaN</td>\n",
              "      <td>NaN</td>\n",
              "      <td>0.000000</td>\n",
              "      <td>0.0</td>\n",
              "    </tr>\n",
              "    <tr>\n",
              "      <th>20.0</th>\n",
              "      <td>0.071429</td>\n",
              "      <td>0.0</td>\n",
              "      <td>0.0</td>\n",
              "      <td>0.000000</td>\n",
              "      <td>NaN</td>\n",
              "      <td>0.000000</td>\n",
              "      <td>0.0</td>\n",
              "      <td>NaN</td>\n",
              "      <td>0.000000</td>\n",
              "      <td>0.0</td>\n",
              "    </tr>\n",
              "    <tr>\n",
              "      <th>21.0</th>\n",
              "      <td>0.000000</td>\n",
              "      <td>0.0</td>\n",
              "      <td>0.0</td>\n",
              "      <td>0.333333</td>\n",
              "      <td>0.0</td>\n",
              "      <td>0.333333</td>\n",
              "      <td>0.0</td>\n",
              "      <td>0.0</td>\n",
              "      <td>0.142857</td>\n",
              "      <td>0.0</td>\n",
              "    </tr>\n",
              "  </tbody>\n",
              "</table>\n",
              "</div>"
            ],
            "text/plain": [
              "ethnicity  'Middle Eastern '  'South Asian'  ...  White-European  others\n",
              "age                                          ...                        \n",
              "17.0                0.000000            0.0  ...        0.166667     NaN\n",
              "18.0                0.076923            1.0  ...        0.090909     NaN\n",
              "19.0                0.000000            0.0  ...        0.000000     0.0\n",
              "20.0                0.071429            0.0  ...        0.000000     0.0\n",
              "21.0                0.000000            0.0  ...        0.142857     0.0\n",
              "\n",
              "[5 rows x 10 columns]"
            ]
          },
          "metadata": {
            "tags": []
          },
          "execution_count": 414
        }
      ]
    },
    {
      "cell_type": "markdown",
      "metadata": {
        "id": "p-BubOD7OyXx"
      },
      "source": [
        "Ethnicity has some nans which means,for those rows and variables, we cannot interprate those variables in terms of Ethnicity. Therefore to make our analysis easier, I will make a copy of the df and frop those rows"
      ]
    },
    {
      "cell_type": "code",
      "metadata": {
        "colab": {
          "base_uri": "https://localhost:8080/"
        },
        "id": "rogJFDzRJF48",
        "outputId": "c65b585c-807e-4573-a7d2-e394f0bb4d25"
      },
      "source": [
        "df['ethnicity']"
      ],
      "execution_count": null,
      "outputs": [
        {
          "output_type": "execute_result",
          "data": {
            "text/plain": [
              "0      White-European\n",
              "1              Latino\n",
              "2              Latino\n",
              "3      White-European\n",
              "4                 NaN\n",
              "            ...      \n",
              "699    White-European\n",
              "700          Hispanic\n",
              "701               NaN\n",
              "702     'South Asian'\n",
              "703    White-European\n",
              "Name: ethnicity, Length: 704, dtype: object"
            ]
          },
          "metadata": {
            "tags": []
          },
          "execution_count": 415
        }
      ]
    },
    {
      "cell_type": "markdown",
      "metadata": {
        "id": "VadNaOKPPrTD"
      },
      "source": [
        "no of missing Ethnic values"
      ]
    },
    {
      "cell_type": "code",
      "metadata": {
        "colab": {
          "base_uri": "https://localhost:8080/"
        },
        "id": "kJlUnoGFPPR_",
        "outputId": "cfb2c68d-0ea1-4d09-bf64-c06d4105995d"
      },
      "source": [
        "\n",
        "df['ethnicity'].isnull().sum()"
      ],
      "execution_count": null,
      "outputs": [
        {
          "output_type": "execute_result",
          "data": {
            "text/plain": [
              "95"
            ]
          },
          "metadata": {
            "tags": []
          },
          "execution_count": 416
        }
      ]
    },
    {
      "cell_type": "markdown",
      "metadata": {
        "id": "U-Um9O57Pytp"
      },
      "source": [
        "copy df so that we dont alter the original"
      ]
    },
    {
      "cell_type": "code",
      "metadata": {
        "colab": {
          "base_uri": "https://localhost:8080/",
          "height": 309
        },
        "id": "88O9lc0ZPZRT",
        "outputId": "df0426ba-26cf-4782-f71f-f2ab457e2631"
      },
      "source": [
        "dfcopy = df.copy()\n",
        "dfcopy.head()"
      ],
      "execution_count": null,
      "outputs": [
        {
          "output_type": "execute_result",
          "data": {
            "text/html": [
              "<div>\n",
              "<style scoped>\n",
              "    .dataframe tbody tr th:only-of-type {\n",
              "        vertical-align: middle;\n",
              "    }\n",
              "\n",
              "    .dataframe tbody tr th {\n",
              "        vertical-align: top;\n",
              "    }\n",
              "\n",
              "    .dataframe thead th {\n",
              "        text-align: right;\n",
              "    }\n",
              "</style>\n",
              "<table border=\"1\" class=\"dataframe\">\n",
              "  <thead>\n",
              "    <tr style=\"text-align: right;\">\n",
              "      <th></th>\n",
              "      <th>A1_Score</th>\n",
              "      <th>A2_Score</th>\n",
              "      <th>A3_Score</th>\n",
              "      <th>A4_Score</th>\n",
              "      <th>A5_Score</th>\n",
              "      <th>A6_Score</th>\n",
              "      <th>A7_Score</th>\n",
              "      <th>A8_Score</th>\n",
              "      <th>A9_Score</th>\n",
              "      <th>A10_Score</th>\n",
              "      <th>age</th>\n",
              "      <th>gender</th>\n",
              "      <th>ethnicity</th>\n",
              "      <th>jundice</th>\n",
              "      <th>autism</th>\n",
              "      <th>country_of_res</th>\n",
              "      <th>used_app_before</th>\n",
              "      <th>result</th>\n",
              "      <th>age_desc</th>\n",
              "      <th>relation</th>\n",
              "      <th>Class/ASD</th>\n",
              "      <th>autism_recoded</th>\n",
              "      <th>age_recoded</th>\n",
              "      <th>jundice_recoded</th>\n",
              "      <th>gender_recoded</th>\n",
              "    </tr>\n",
              "  </thead>\n",
              "  <tbody>\n",
              "    <tr>\n",
              "      <th>0</th>\n",
              "      <td>1</td>\n",
              "      <td>1</td>\n",
              "      <td>1</td>\n",
              "      <td>1</td>\n",
              "      <td>0</td>\n",
              "      <td>0</td>\n",
              "      <td>1</td>\n",
              "      <td>1</td>\n",
              "      <td>0</td>\n",
              "      <td>0</td>\n",
              "      <td>26.0</td>\n",
              "      <td>f</td>\n",
              "      <td>White-European</td>\n",
              "      <td>no</td>\n",
              "      <td>no</td>\n",
              "      <td>'United States'</td>\n",
              "      <td>no</td>\n",
              "      <td>6</td>\n",
              "      <td>'18 and more'</td>\n",
              "      <td>Self</td>\n",
              "      <td>NO</td>\n",
              "      <td>0</td>\n",
              "      <td>20_30</td>\n",
              "      <td>0</td>\n",
              "      <td>0</td>\n",
              "    </tr>\n",
              "    <tr>\n",
              "      <th>1</th>\n",
              "      <td>1</td>\n",
              "      <td>1</td>\n",
              "      <td>0</td>\n",
              "      <td>1</td>\n",
              "      <td>0</td>\n",
              "      <td>0</td>\n",
              "      <td>0</td>\n",
              "      <td>1</td>\n",
              "      <td>0</td>\n",
              "      <td>1</td>\n",
              "      <td>24.0</td>\n",
              "      <td>m</td>\n",
              "      <td>Latino</td>\n",
              "      <td>no</td>\n",
              "      <td>yes</td>\n",
              "      <td>Brazil</td>\n",
              "      <td>no</td>\n",
              "      <td>5</td>\n",
              "      <td>'18 and more'</td>\n",
              "      <td>Self</td>\n",
              "      <td>NO</td>\n",
              "      <td>1</td>\n",
              "      <td>20_30</td>\n",
              "      <td>0</td>\n",
              "      <td>1</td>\n",
              "    </tr>\n",
              "    <tr>\n",
              "      <th>2</th>\n",
              "      <td>1</td>\n",
              "      <td>1</td>\n",
              "      <td>0</td>\n",
              "      <td>1</td>\n",
              "      <td>1</td>\n",
              "      <td>0</td>\n",
              "      <td>1</td>\n",
              "      <td>1</td>\n",
              "      <td>1</td>\n",
              "      <td>1</td>\n",
              "      <td>27.0</td>\n",
              "      <td>m</td>\n",
              "      <td>Latino</td>\n",
              "      <td>yes</td>\n",
              "      <td>yes</td>\n",
              "      <td>Spain</td>\n",
              "      <td>no</td>\n",
              "      <td>8</td>\n",
              "      <td>'18 and more'</td>\n",
              "      <td>Parent</td>\n",
              "      <td>YES</td>\n",
              "      <td>1</td>\n",
              "      <td>20_30</td>\n",
              "      <td>1</td>\n",
              "      <td>1</td>\n",
              "    </tr>\n",
              "    <tr>\n",
              "      <th>3</th>\n",
              "      <td>1</td>\n",
              "      <td>1</td>\n",
              "      <td>0</td>\n",
              "      <td>1</td>\n",
              "      <td>0</td>\n",
              "      <td>0</td>\n",
              "      <td>1</td>\n",
              "      <td>1</td>\n",
              "      <td>0</td>\n",
              "      <td>1</td>\n",
              "      <td>35.0</td>\n",
              "      <td>f</td>\n",
              "      <td>White-European</td>\n",
              "      <td>no</td>\n",
              "      <td>yes</td>\n",
              "      <td>'United States'</td>\n",
              "      <td>no</td>\n",
              "      <td>6</td>\n",
              "      <td>'18 and more'</td>\n",
              "      <td>Self</td>\n",
              "      <td>NO</td>\n",
              "      <td>1</td>\n",
              "      <td>30_40</td>\n",
              "      <td>0</td>\n",
              "      <td>0</td>\n",
              "    </tr>\n",
              "    <tr>\n",
              "      <th>4</th>\n",
              "      <td>1</td>\n",
              "      <td>0</td>\n",
              "      <td>0</td>\n",
              "      <td>0</td>\n",
              "      <td>0</td>\n",
              "      <td>0</td>\n",
              "      <td>0</td>\n",
              "      <td>1</td>\n",
              "      <td>0</td>\n",
              "      <td>0</td>\n",
              "      <td>40.0</td>\n",
              "      <td>f</td>\n",
              "      <td>NaN</td>\n",
              "      <td>no</td>\n",
              "      <td>no</td>\n",
              "      <td>Egypt</td>\n",
              "      <td>no</td>\n",
              "      <td>2</td>\n",
              "      <td>'18 and more'</td>\n",
              "      <td>NaN</td>\n",
              "      <td>NO</td>\n",
              "      <td>0</td>\n",
              "      <td>30_40</td>\n",
              "      <td>0</td>\n",
              "      <td>0</td>\n",
              "    </tr>\n",
              "  </tbody>\n",
              "</table>\n",
              "</div>"
            ],
            "text/plain": [
              "   A1_Score  A2_Score  A3_Score  ...  age_recoded  jundice_recoded  gender_recoded\n",
              "0         1         1         1  ...        20_30                0               0\n",
              "1         1         1         0  ...        20_30                0               1\n",
              "2         1         1         0  ...        20_30                1               1\n",
              "3         1         1         0  ...        30_40                0               0\n",
              "4         1         0         0  ...        30_40                0               0\n",
              "\n",
              "[5 rows x 25 columns]"
            ]
          },
          "metadata": {
            "tags": []
          },
          "execution_count": 417
        }
      ]
    },
    {
      "cell_type": "code",
      "metadata": {
        "colab": {
          "base_uri": "https://localhost:8080/"
        },
        "id": "6X6fM06JP5_1",
        "outputId": "83e5a3ae-bc36-4153-f3e6-bb6294873334"
      },
      "source": [
        "dfcopy.isnull().sum()"
      ],
      "execution_count": null,
      "outputs": [
        {
          "output_type": "execute_result",
          "data": {
            "text/plain": [
              "A1_Score            0\n",
              "A2_Score            0\n",
              "A3_Score            0\n",
              "A4_Score            0\n",
              "A5_Score            0\n",
              "A6_Score            0\n",
              "A7_Score            0\n",
              "A8_Score            0\n",
              "A9_Score            0\n",
              "A10_Score           0\n",
              "age                 0\n",
              "gender              0\n",
              "ethnicity          95\n",
              "jundice             0\n",
              "autism              0\n",
              "country_of_res      0\n",
              "used_app_before     0\n",
              "result              0\n",
              "age_desc            0\n",
              "relation           95\n",
              "Class/ASD           0\n",
              "autism_recoded      0\n",
              "age_recoded         0\n",
              "jundice_recoded     0\n",
              "gender_recoded      0\n",
              "dtype: int64"
            ]
          },
          "metadata": {
            "tags": []
          },
          "execution_count": 418
        }
      ]
    },
    {
      "cell_type": "markdown",
      "metadata": {
        "id": "mO-MaIndRDGA"
      },
      "source": [
        "drop uneeded column because missing values in relation may not be on the same rows as missing values in ethnicity"
      ]
    },
    {
      "cell_type": "code",
      "metadata": {
        "colab": {
          "base_uri": "https://localhost:8080/"
        },
        "id": "JHyRct7UQGxs",
        "outputId": "dc756034-6018-44f4-ab1a-8e83164fb1c0"
      },
      "source": [
        "if 'relation' in dfcopy.columns: \n",
        "  dfcopy = dfcopy.drop('relation',axis = 1)\n",
        "'relation' in dfcopy.columns"
      ],
      "execution_count": null,
      "outputs": [
        {
          "output_type": "execute_result",
          "data": {
            "text/plain": [
              "False"
            ]
          },
          "metadata": {
            "tags": []
          },
          "execution_count": 419
        }
      ]
    },
    {
      "cell_type": "markdown",
      "metadata": {
        "id": "NUW_cJgeRnGt"
      },
      "source": [
        "now drop rows with missing Ethnicity values"
      ]
    },
    {
      "cell_type": "code",
      "metadata": {
        "id": "A9eYWEPJRmE1"
      },
      "source": [
        "dfcopy = dfcopy.dropna(axis = 0)"
      ],
      "execution_count": null,
      "outputs": []
    },
    {
      "cell_type": "markdown",
      "metadata": {
        "id": "ZRTk1jv6SaA2"
      },
      "source": [
        "no more missing Ethnic values"
      ]
    },
    {
      "cell_type": "code",
      "metadata": {
        "colab": {
          "base_uri": "https://localhost:8080/"
        },
        "id": "IfmCYL4eSK-n",
        "outputId": "5c077c81-d006-430d-894f-3fd691fdddde"
      },
      "source": [
        "dfcopy.isnull().sum()"
      ],
      "execution_count": null,
      "outputs": [
        {
          "output_type": "execute_result",
          "data": {
            "text/plain": [
              "A1_Score           0\n",
              "A2_Score           0\n",
              "A3_Score           0\n",
              "A4_Score           0\n",
              "A5_Score           0\n",
              "A6_Score           0\n",
              "A7_Score           0\n",
              "A8_Score           0\n",
              "A9_Score           0\n",
              "A10_Score          0\n",
              "age                0\n",
              "gender             0\n",
              "ethnicity          0\n",
              "jundice            0\n",
              "autism             0\n",
              "country_of_res     0\n",
              "used_app_before    0\n",
              "result             0\n",
              "age_desc           0\n",
              "Class/ASD          0\n",
              "autism_recoded     0\n",
              "age_recoded        0\n",
              "jundice_recoded    0\n",
              "gender_recoded     0\n",
              "dtype: int64"
            ]
          },
          "metadata": {
            "tags": []
          },
          "execution_count": 421
        }
      ]
    },
    {
      "cell_type": "code",
      "metadata": {
        "id": "3EM2JbS9JxaK"
      },
      "source": [
        "from statsmodels.nonparametric.smoothers_lowess import lowess\n",
        "\n",
        "def make_lowess(series):\n",
        "    \"\"\"Use LOWESS to compute a smooth line.\n",
        "    \n",
        "    series: pd.Series\n",
        "    \n",
        "    returns: pd.Series\n",
        "    \"\"\"\n",
        "    y = series.values\n",
        "    x = series.index.values\n",
        "\n",
        "    smooth = lowess(y, x)\n",
        "    index, data = np.transpose(smooth)\n",
        "\n",
        "    return pd.Series(data, index=index) \n",
        "\n",
        "def plot_series_lowess(series, color):\n",
        "    \"\"\"Plots a series of data points and a smooth line.\n",
        "    \n",
        "    series: pd.Series\n",
        "    color: string or tuple\n",
        "    \"\"\"\n",
        "    series.plot(linewidth=0, marker='o', color=color, alpha=0.8)\n",
        "    smooth = make_lowess(series)\n",
        "    smooth.plot(label='_', color=color)\n",
        "\n",
        "def plot_columns_lowess(table, columns, colors):\n",
        "    \"\"\"Plot the columns in a DataFrame.\n",
        "    \n",
        "    table: DataFrame with a cross tabulation\n",
        "    columns: list of column names, in the desired order\n",
        "    colors: mapping from column names to colors\n",
        "    \"\"\"\n",
        "    for col in columns:\n",
        "        series = table[col]\n",
        "        plot_series_lowess(series, colors[col])"
      ],
      "execution_count": null,
      "outputs": []
    },
    {
      "cell_type": "code",
      "metadata": {
        "id": "FXGJOLUWR2de"
      },
      "source": [
        ""
      ],
      "execution_count": null,
      "outputs": []
    },
    {
      "cell_type": "markdown",
      "metadata": {
        "id": "5u5V2neZV7Ll"
      },
      "source": [
        "generate colour groups for ethnic groups"
      ]
    },
    {
      "cell_type": "code",
      "metadata": {
        "colab": {
          "base_uri": "https://localhost:8080/",
          "height": 89
        },
        "id": "3O9q-fI3KIpU",
        "outputId": "6ef56337-dac1-4046-ab8d-6ba36422417a"
      },
      "source": [
        "no_colours = dfcopy['ethnicity'].describe()['unique']\n",
        "ethnic_colours = sns.color_palette('muted', no_colours)\n",
        "sns.palplot(ethnic_colours)"
      ],
      "execution_count": null,
      "outputs": [
        {
          "output_type": "display_data",
          "data": {
            "image/png": "[encoded data removed]",
            "text/plain": [
              "<Figure size 720x72 with 1 Axes>"
            ]
          },
          "metadata": {
            "tags": [],
            "needs_background": "light"
          }
        }
      ]
    },
    {
      "cell_type": "code",
      "metadata": {
        "colab": {
          "base_uri": "https://localhost:8080/"
        },
        "id": "6HbrXA0CLwD5",
        "outputId": "a93cdd0f-0c11-4e28-eca7-39b9568a8a85"
      },
      "source": [
        "ethnic_colours[0]"
      ],
      "execution_count": null,
      "outputs": [
        {
          "output_type": "execute_result",
          "data": {
            "text/plain": [
              "(0.2823529411764706, 0.47058823529411764, 0.8156862745098039)"
            ]
          },
          "metadata": {
            "tags": []
          },
          "execution_count": 424
        }
      ]
    },
    {
      "cell_type": "code",
      "metadata": {
        "colab": {
          "base_uri": "https://localhost:8080/"
        },
        "id": "IV9zdDluLwCo",
        "outputId": "a976c7ca-a5b7-4c85-a06d-91260a046207"
      },
      "source": [
        "for ethnic in dfcopy['ethnicity'].unique():print(ethnic)"
      ],
      "execution_count": null,
      "outputs": [
        {
          "output_type": "stream",
          "text": [
            "White-European\n",
            "Latino\n",
            "others\n",
            "Black\n",
            "Asian\n",
            "'Middle Eastern '\n",
            "Pasifika\n",
            "'South Asian'\n",
            "Hispanic\n",
            "Turkish\n"
          ],
          "name": "stdout"
        }
      ]
    },
    {
      "cell_type": "markdown",
      "metadata": {
        "id": "oKp_KuLpWYFg"
      },
      "source": [
        "Assign colours to ethnic groups"
      ]
    },
    {
      "cell_type": "code",
      "metadata": {
        "id": "NgkvCwENKLYk"
      },
      "source": [
        "#select colours to represent ethnic groups\n",
        "colours = {}\n",
        "colour_idx = 0\n",
        "for group in dfcopy['ethnicity'].unique():\n",
        "  colours[group] = ethnic_colours[colour_idx]\n",
        "  colour_idx +=1"
      ],
      "execution_count": null,
      "outputs": []
    },
    {
      "cell_type": "code",
      "metadata": {
        "id": "N681IPRyTRey"
      },
      "source": [
        "columns = dfcopy['ethnicity'].unique()"
      ],
      "execution_count": null,
      "outputs": []
    },
    {
      "cell_type": "markdown",
      "metadata": {
        "id": "OU0pQa20Wd6e"
      },
      "source": [
        "plot the result"
      ]
    },
    {
      "cell_type": "code",
      "metadata": {
        "colab": {
          "base_uri": "https://localhost:8080/",
          "height": 513
        },
        "id": "Ngsyck_eJaDq",
        "outputId": "c5a1c108-4473-4f8b-dc8a-5d71e65bbb13"
      },
      "source": [
        "plt.figure(figsize = (10,7))\n",
        "plot_columns_lowess(table,columns,colours)\n",
        "\n",
        "decorate(xlabel='Age',\n",
        "         ylabel='Fraction having Autism',\n",
        "         \n",
        "         title='Age, Ethnicity and Autism')\n",
        "\n",
        "plt.legend();"
      ],
      "execution_count": null,
      "outputs": [
        {
          "output_type": "display_data",
          "data": {
            "image/png": "[encoded data removed]",
            "text/plain": [
              "<Figure size 720x504 with 1 Axes>"
            ]
          },
          "metadata": {
            "tags": [],
            "needs_background": "light"
          }
        }
      ]
    },
    {
      "cell_type": "markdown",
      "metadata": {
        "id": "B_pEAh8EXw2M"
      },
      "source": [
        ""
      ]
    },
    {
      "cell_type": "markdown",
      "metadata": {
        "id": "hivLRf1rVMQl"
      },
      "source": [
        "##Age Gender and Autism\n",
        "---------------------------"
      ]
    },
    {
      "cell_type": "markdown",
      "metadata": {
        "id": "8tJau7UfYCm8"
      },
      "source": [
        "gender colours"
      ]
    },
    {
      "cell_type": "code",
      "metadata": {
        "colab": {
          "base_uri": "https://localhost:8080/",
          "height": 89
        },
        "id": "IqtGvwIAJmMk",
        "outputId": "650cdf15-7e9e-406d-e8c7-7c19d3f19280"
      },
      "source": [
        "no_colours = df['gender'].describe()['unique']\n",
        "gender_colours = sns.color_palette('muted', no_colours)\n",
        "sns.palplot(gender_colours)"
      ],
      "execution_count": null,
      "outputs": [
        {
          "output_type": "display_data",
          "data": {
            "image/png": "[encoded data removed]",
            "text/plain": [
              "<Figure size 144x72 with 1 Axes>"
            ]
          },
          "metadata": {
            "tags": [],
            "needs_background": "light"
          }
        }
      ]
    },
    {
      "cell_type": "markdown",
      "metadata": {
        "id": "mes5D3yaWhyc"
      },
      "source": [
        "Assign colours to gender"
      ]
    },
    {
      "cell_type": "code",
      "metadata": {
        "id": "dzjVcopdKfxD"
      },
      "source": [
        "colours = {'m':gender_colours[0],'f':gender_colours[1]}"
      ],
      "execution_count": null,
      "outputs": []
    },
    {
      "cell_type": "markdown",
      "metadata": {
        "id": "MoUhgaR2XAGx"
      },
      "source": [
        "create pivot table"
      ]
    },
    {
      "cell_type": "code",
      "metadata": {
        "id": "CHBtJutwW2R-"
      },
      "source": [
        "table = df.pivot_table(values = 'autism_recoded',index = 'age',columns = 'gender',aggfunc = 'mean')"
      ],
      "execution_count": null,
      "outputs": []
    },
    {
      "cell_type": "code",
      "metadata": {
        "id": "utyZpL7CXTFA"
      },
      "source": [
        ""
      ],
      "execution_count": null,
      "outputs": []
    },
    {
      "cell_type": "code",
      "metadata": {
        "colab": {
          "base_uri": "https://localhost:8080/",
          "height": 441
        },
        "id": "0lYBT4MjXFJZ",
        "outputId": "192fbe45-efac-4ac1-a6e9-151c201c2bc2"
      },
      "source": [
        "columns = ['m','f']\n",
        "plt.figure(figsize = (8,6))\n",
        "plot_columns_lowess(table,columns,colours)\n",
        "\n",
        "decorate(xlabel='Age',\n",
        "         ylabel='Fraction having Autism',\n",
        "        \n",
        "         title='Age, Gender and Autism')\n",
        "\n",
        "plt.legend();"
      ],
      "execution_count": null,
      "outputs": [
        {
          "output_type": "display_data",
          "data": {
            "image/png": "[encoded data removed]",
            "text/plain": [
              "<Figure size 576x432 with 1 Axes>"
            ]
          },
          "metadata": {
            "tags": [],
            "needs_background": "light"
          }
        }
      ]
    },
    {
      "cell_type": "markdown",
      "metadata": {
        "id": "3blM4kAWXyds"
      },
      "source": [
        "##Age, Jundice and Autism\n",
        "-------------------------------"
      ]
    },
    {
      "cell_type": "code",
      "metadata": {
        "colab": {
          "base_uri": "https://localhost:8080/",
          "height": 89
        },
        "id": "516jVgvnYMjl",
        "outputId": "2d2d6207-d11a-48fa-b414-bd0f82602fba"
      },
      "source": [
        "no_colours = 6\n",
        "\n",
        "jundice_colours = sns.color_palette('muted', no_colours)\n",
        "sns.palplot(jundice_colours)"
      ],
      "execution_count": null,
      "outputs": [
        {
          "output_type": "display_data",
          "data": {
            "image/png": "[encoded data removed]",
            "text/plain": [
              "<Figure size 432x72 with 1 Axes>"
            ]
          },
          "metadata": {
            "tags": [],
            "needs_background": "light"
          }
        }
      ]
    },
    {
      "cell_type": "code",
      "metadata": {
        "id": "XoUXFyXBYMiZ"
      },
      "source": [
        "colours = {'yes':jundice_colours[0],'no':jundice_colours[3]}"
      ],
      "execution_count": null,
      "outputs": []
    },
    {
      "cell_type": "code",
      "metadata": {
        "id": "pYGAQaRTZDP6"
      },
      "source": [
        "table = df.pivot_table(values = 'autism_recoded',index = 'age',columns = 'jundice',aggfunc = 'mean')"
      ],
      "execution_count": null,
      "outputs": []
    },
    {
      "cell_type": "code",
      "metadata": {
        "colab": {
          "base_uri": "https://localhost:8080/",
          "height": 513
        },
        "id": "2Y9WgjVFXN_7",
        "outputId": "c98445eb-9f81-4729-c42c-e21a4812ec49"
      },
      "source": [
        "columns =  ['yes', 'no']\n",
        "plt.figure(figsize = (10,7))\n",
        "plot_columns_lowess(table,columns,colours)\n",
        "\n",
        "decorate(xlabel='Age',\n",
        "         ylabel='Fraction having Autism',\n",
        "        \n",
        "         title='Age, Jaundice and Autism')\n",
        "\n",
        "plt.legend();"
      ],
      "execution_count": null,
      "outputs": [
        {
          "output_type": "display_data",
          "data": {
            "image/png": "[encoded data removed]",
            "text/plain": [
              "<Figure size 720x504 with 1 Axes>"
            ]
          },
          "metadata": {
            "tags": [],
            "needs_background": "light"
          }
        }
      ]
    },
    {
      "cell_type": "code",
      "metadata": {
        "id": "ohfzItz3ZA5m"
      },
      "source": [
        ""
      ],
      "execution_count": null,
      "outputs": []
    }
  ]
}